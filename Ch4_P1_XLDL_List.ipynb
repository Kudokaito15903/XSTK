{
 "cells": [
  {
   "cell_type": "markdown",
   "id": "8ceddd45",
   "metadata": {},
   "source": [
    "Phần I: Nhập, xử lý dữ liệu dạng vector"
   ]
  },
  {
   "cell_type": "markdown",
   "id": "94c048ea",
   "metadata": {},
   "source": [
    "I.1 Dùng dữ liệu kiểu list"
   ]
  },
  {
   "cell_type": "markdown",
   "id": "cee161d1",
   "metadata": {},
   "source": [
    "Thực hành Bài 1, 2, dùng dữ liệu kiểu list"
   ]
  },
  {
   "cell_type": "markdown",
   "id": "77975b40",
   "metadata": {},
   "source": [
    "Giả sử bạn theo dõi số tiền (đơn vị nghìn đồng) trong hóa đơn điện thoại\n",
    "hàng tháng theo thứ tự từ tháng 1 đến tháng 12 trong năm vừa qua như sau:\n",
    "\n",
    "198  185  223  221  207  203  180  195  222  177  214  216\n",
    "\n",
    "a. Nhập dữ liệu thành một vec tơ có tên tien_dt."
   ]
  },
  {
   "cell_type": "code",
   "execution_count": 1,
   "id": "393a4abd",
   "metadata": {},
   "outputs": [],
   "source": [
    "# Nhập số liệu\n",
    "tien_dt=[198, 185, 223, 221, 207, 203, 180, 195, 222, 177, 214, 216]"
   ]
  },
  {
   "cell_type": "code",
   "execution_count": 46,
   "id": "2cf03166",
   "metadata": {},
   "outputs": [
    {
     "data": {
      "text/plain": [
       "list"
      ]
     },
     "execution_count": 46,
     "metadata": {},
     "output_type": "execute_result"
    }
   ],
   "source": [
    "type(tien_dt) # kiểu dữ liệu"
   ]
  },
  {
   "cell_type": "code",
   "execution_count": null,
   "id": "4a1284b8",
   "metadata": {},
   "outputs": [
    {
     "data": {
      "text/plain": [
       "12"
      ]
     },
     "execution_count": 47,
     "metadata": {},
     "output_type": "execute_result"
    }
   ],
   "source": [
    "len(tien_dt) # số phần tử"
   ]
  },
  {
   "cell_type": "markdown",
   "id": "a75273cc",
   "metadata": {},
   "source": [
    "Quy tắc đặt tên:\n",
    "1. Phải bắt đầu bằng một chữ cái hoặc dấu gạch dưới\n",
    "2. Phần còn lại của tên chỉ có thể bao gồm: chữ cái, chữ số và dấu gạch dưới\n",
    "3. Phân biệt chữ hoa và chữ thường"
   ]
  },
  {
   "cell_type": "code",
   "execution_count": 2,
   "id": "058562d7",
   "metadata": {},
   "outputs": [
    {
     "data": {
      "text/plain": [
       "[198, 185, 223, 221, 207, 203, 180, 195, 222, 177, 214, 216]"
      ]
     },
     "execution_count": 2,
     "metadata": {},
     "output_type": "execute_result"
    }
   ],
   "source": [
    "# Hiển thị số liệu\n",
    "tien_dt"
   ]
  },
  {
   "cell_type": "code",
   "execution_count": 3,
   "id": "7ee25232",
   "metadata": {},
   "outputs": [
    {
     "data": {
      "text/plain": [
       "223"
      ]
     },
     "execution_count": 3,
     "metadata": {},
     "output_type": "execute_result"
    }
   ],
   "source": [
    "# Hiển thị giá trị ở chỉ số (index) 2, index đánh số từ 0 đến n-1\n",
    "tien_dt[2]"
   ]
  },
  {
   "cell_type": "code",
   "execution_count": 4,
   "id": "71f85749",
   "metadata": {},
   "outputs": [
    {
     "name": "stdout",
     "output_type": "stream",
     "text": [
      "[223, 221, 207, 203]\n"
     ]
    }
   ],
   "source": [
    "# Tạo list gồm các phần tử ở chỉ số từ 2 đến 5 (slice)\n",
    "t25 = tien_dt[2:6] # từ 2 đến nhỏ hơn 6\n",
    "print(t25)"
   ]
  },
  {
   "cell_type": "code",
   "execution_count": 3,
   "id": "f71f6764",
   "metadata": {},
   "outputs": [
    {
     "name": "stdout",
     "output_type": "stream",
     "text": [
      "[185, 221, 203, 195]\n"
     ]
    }
   ],
   "source": [
    "# Tạo list gồm các phần tử có index là 1,3,5,7 (slice - lát cắt)\n",
    "t1 = tien_dt[1:8:2] # start:end:step # từ 1 đến nhỏ hơn 8 với bước (step) là 2\n",
    "print(t1)"
   ]
  },
  {
   "cell_type": "code",
   "execution_count": 6,
   "id": "19e8891e",
   "metadata": {},
   "outputs": [
    {
     "name": "stdout",
     "output_type": "stream",
     "text": [
      "[198, 223, 207, 180, 222, 214]\n"
     ]
    }
   ],
   "source": [
    "#Tạo list gồm các phần tử có index chẵn: 0, 2, 4, ...\n",
    "tle = tien_dt[0:(len(tien_dt)+1):2]\n",
    "print(tle)"
   ]
  },
  {
   "cell_type": "code",
   "execution_count": 7,
   "id": "1f5fbad6",
   "metadata": {},
   "outputs": [
    {
     "name": "stdout",
     "output_type": "stream",
     "text": [
      "[1, 3, 5]\n"
     ]
    }
   ],
   "source": [
    "# Xóa bớt phần tử từ list\n",
    "# Xóa hết: clear\n",
    "a=[1,3,5]\n",
    "print(a)"
   ]
  },
  {
   "cell_type": "code",
   "execution_count": 8,
   "id": "27360f7e",
   "metadata": {},
   "outputs": [
    {
     "name": "stdout",
     "output_type": "stream",
     "text": [
      "[]\n"
     ]
    }
   ],
   "source": [
    "a.clear()\n",
    "print(a) "
   ]
  },
  {
   "cell_type": "code",
   "execution_count": 9,
   "id": "d13bed9a",
   "metadata": {},
   "outputs": [
    {
     "name": "stdout",
     "output_type": "stream",
     "text": [
      "[2, 4, 7]\n"
     ]
    }
   ],
   "source": [
    "# Xóa một giá trị cụ thể:\n",
    "b=[2,4,7,7]\n",
    "b.remove(7)\n",
    "print(b) # chỉ xóa phần tử 7 đầu tiên"
   ]
  },
  {
   "cell_type": "code",
   "execution_count": 4,
   "id": "85de2e4c",
   "metadata": {},
   "outputs": [
    {
     "name": "stdout",
     "output_type": "stream",
     "text": [
      "[2, 4]\n"
     ]
    }
   ],
   "source": [
    "# Xóa một giá trị cụ thể:\n",
    "b=[2,4,7,7]\n",
    "b_new = [i for i in b if i != 7]\n",
    "print(b_new) # lọc lấy những phần tử thỏa mãn điều kiện và xóa tất cả các phần \n",
    "# tử không thỏa mãn điều kiện"
   ]
  },
  {
   "cell_type": "code",
   "execution_count": 11,
   "id": "47727a89",
   "metadata": {},
   "outputs": [
    {
     "name": "stdout",
     "output_type": "stream",
     "text": [
      "[1, 4, 7, 10]\n"
     ]
    }
   ],
   "source": [
    "# Xóa theo index\n",
    "c=[1,4,7,9,10]\n",
    "c.pop(-2) # xóa phần tử thứ 2 tính từ cuối\n",
    "print(c)"
   ]
  },
  {
   "cell_type": "code",
   "execution_count": null,
   "id": "5f04d6cd",
   "metadata": {},
   "outputs": [],
   "source": [
    " # xem trợ giúp \n",
    "?list.pop"
   ]
  },
  {
   "cell_type": "code",
   "execution_count": 49,
   "id": "2aae61ea",
   "metadata": {},
   "outputs": [
    {
     "name": "stdout",
     "output_type": "stream",
     "text": [
      "[1, 4, 9, 10]\n"
     ]
    }
   ],
   "source": [
    "c=[1,4,7,9,10]\n",
    "c.pop(2) # xóa phần tử có index là 2\n",
    "print(c)"
   ]
  },
  {
   "cell_type": "code",
   "execution_count": 12,
   "id": "a2385579",
   "metadata": {},
   "outputs": [
    {
     "name": "stdout",
     "output_type": "stream",
     "text": [
      "[1, 7, 10, 13, 18]\n"
     ]
    }
   ],
   "source": [
    "# Xóa theo index\n",
    "c=[1,4,7,9,10, 14,13,18]\n",
    "del c[1:7:2] # xóa phần tử có index là 1, 3, 5 (start:end:step)\n",
    "print(c)"
   ]
  },
  {
   "cell_type": "markdown",
   "id": "5d79e5d4",
   "metadata": {},
   "source": [
    "b. Tính tổng số tiền bạn phải trả cho phí điện thoại trong năm đó."
   ]
  },
  {
   "cell_type": "code",
   "execution_count": 14,
   "id": "e669b418",
   "metadata": {},
   "outputs": [
    {
     "data": {
      "text/plain": [
       "2441"
      ]
     },
     "execution_count": 14,
     "metadata": {},
     "output_type": "execute_result"
    }
   ],
   "source": [
    "# Tính tổng\n",
    "sum(tien_dt)"
   ]
  },
  {
   "cell_type": "markdown",
   "id": "f7b6a422",
   "metadata": {},
   "source": [
    "c. Cho biết tháng nào có số tiền ít (nhiều) nhất và số tiền là bao nhiêu?"
   ]
  },
  {
   "cell_type": "code",
   "execution_count": 15,
   "id": "6d4782cf",
   "metadata": {},
   "outputs": [
    {
     "data": {
      "text/plain": [
       "223"
      ]
     },
     "execution_count": 15,
     "metadata": {},
     "output_type": "execute_result"
    }
   ],
   "source": [
    "# Giá trị lớn nhất\n",
    "max(tien_dt) "
   ]
  },
  {
   "cell_type": "code",
   "execution_count": 16,
   "id": "b43630f7",
   "metadata": {},
   "outputs": [
    {
     "data": {
      "text/plain": [
       "177"
      ]
     },
     "execution_count": 16,
     "metadata": {},
     "output_type": "execute_result"
    }
   ],
   "source": [
    "# Giá trị nhỏ nhất\n",
    "min(tien_dt)"
   ]
  },
  {
   "cell_type": "code",
   "execution_count": 17,
   "id": "0069c6a7",
   "metadata": {},
   "outputs": [
    {
     "data": {
      "text/plain": [
       "9"
      ]
     },
     "execution_count": 17,
     "metadata": {},
     "output_type": "execute_result"
    }
   ],
   "source": [
    "# Vị trí của giá trị nhỏ nhất\n",
    "tien_dt.index(min(tien_dt))"
   ]
  },
  {
   "cell_type": "markdown",
   "id": "44925d7f",
   "metadata": {},
   "source": [
    "index 9 ứng với quan sát số 10 (index được đánh số từ 0), do đó tháng 10 có số tiền ít nhất"
   ]
  },
  {
   "cell_type": "code",
   "execution_count": 19,
   "id": "fb7b1637",
   "metadata": {},
   "outputs": [
    {
     "data": {
      "text/plain": [
       "2"
      ]
     },
     "execution_count": 19,
     "metadata": {},
     "output_type": "execute_result"
    }
   ],
   "source": [
    "# Vị trí của giá trị lớn nhất\n",
    "tien_dt.index(max(tien_dt))"
   ]
  },
  {
   "cell_type": "code",
   "execution_count": 20,
   "id": "2c615f31",
   "metadata": {},
   "outputs": [
    {
     "data": {
      "text/plain": [
       "6"
      ]
     },
     "execution_count": 20,
     "metadata": {},
     "output_type": "execute_result"
    }
   ],
   "source": [
    "# Vị trí của 1 giá trị bất kì\n",
    "tien_dt.index(180)"
   ]
  },
  {
   "cell_type": "markdown",
   "id": "ac32a4e1",
   "metadata": {},
   "source": [
    "Chú ý: Cách trên chỉ cho biết chỉ số đầu tiên (trong trường hợp có nhiều phần tử cùng có giá trị đang tìm), xem ví dụ sau."
   ]
  },
  {
   "cell_type": "code",
   "execution_count": 21,
   "id": "5098c4ab",
   "metadata": {},
   "outputs": [
    {
     "data": {
      "text/plain": [
       "0"
      ]
     },
     "execution_count": 21,
     "metadata": {},
     "output_type": "execute_result"
    }
   ],
   "source": [
    "a=[2,2,5,6]\n",
    "a.index(2)"
   ]
  },
  {
   "cell_type": "markdown",
   "id": "9e13c5b5",
   "metadata": {},
   "source": [
    "d. Cho biết những tháng bạn phải trả hơn 200 nghìn tiền điện thoại. Có bao nhiêu\n",
    "tháng như thế?"
   ]
  },
  {
   "cell_type": "code",
   "execution_count": 22,
   "id": "3c228815",
   "metadata": {},
   "outputs": [
    {
     "name": "stdout",
     "output_type": "stream",
     "text": [
      "[2, 3, 4, 5, 8, 10, 11]\n"
     ]
    }
   ],
   "source": [
    "# Lọc ra index của những phần tử thỏa mãn một hoặc một số điều kiện \n",
    "id=[]\n",
    "for i in range(len(tien_dt)):\n",
    "  if tien_dt[i]>200:\n",
    "    id.append(i)\n",
    "print(id)"
   ]
  },
  {
   "cell_type": "markdown",
   "id": "8802267b",
   "metadata": {},
   "source": [
    "Như vậy những tháng phải trả hơn 200 ngàn là: 3, 4, 5, 6, 9, 11, 12 (hơn index 1 đơn vị, nếu không muốn phải tự cộng thêm 1 thì thay i bằng i+1 trong dòng thứ 4 như sau:"
   ]
  },
  {
   "cell_type": "code",
   "execution_count": 23,
   "id": "1d1c6724",
   "metadata": {},
   "outputs": [
    {
     "name": "stdout",
     "output_type": "stream",
     "text": [
      "[3, 4, 5, 6, 9, 11, 12]\n"
     ]
    }
   ],
   "source": [
    "thang200=[]\n",
    "for i in range(len(tien_dt)):\n",
    "  if tien_dt[i]>200:\n",
    "    thang200.append(i+1)\n",
    "print(thang200)"
   ]
  },
  {
   "cell_type": "code",
   "execution_count": null,
   "id": "a987c894",
   "metadata": {},
   "outputs": [],
   "source": []
  },
  {
   "cell_type": "markdown",
   "id": "1d068cd6",
   "metadata": {},
   "source": [
    "Trong đoạn code trên, tien_dt[i]>200 là một điều kiện logic (logical condition). Cách thiết lập một điều kiện kiểu này:\n",
    "\n",
    "Bằng nhau: a == b.\n",
    "\n",
    "Không bằng: a != b.\n",
    "\n",
    "Nhỏ hơn: a < b.\n",
    "\n",
    "Nhỏ hơn hoặc bằng: a <= b.\n",
    "\n",
    "Lớn hơn: a > b.\n",
    "\n",
    "Lớn hơn hoặc bằng: a >= b.\n",
    "\n",
    "and: &\n",
    "\n",
    "or: |"
   ]
  },
  {
   "cell_type": "code",
   "execution_count": 24,
   "id": "1644a2eb",
   "metadata": {},
   "outputs": [
    {
     "data": {
      "text/plain": [
       "7"
      ]
     },
     "execution_count": 24,
     "metadata": {},
     "output_type": "execute_result"
    }
   ],
   "source": [
    "# Tìm số tháng phải trả hơn 200 ngàn\n",
    "len(thang200)"
   ]
  },
  {
   "cell_type": "markdown",
   "id": "2e289092",
   "metadata": {},
   "source": [
    "e. Tính xem có bao nhiêu tháng mà tiền điện thoại không quá 190 nghìn."
   ]
  },
  {
   "cell_type": "code",
   "execution_count": 25,
   "id": "69fa5ee0",
   "metadata": {},
   "outputs": [
    {
     "data": {
      "text/plain": [
       "3"
      ]
     },
     "execution_count": 25,
     "metadata": {},
     "output_type": "execute_result"
    }
   ],
   "source": [
    "e=[]\n",
    "for i in range(len(tien_dt)):\n",
    "  if tien_dt[i]<=190:\n",
    "    e.append(tien_dt[i])\n",
    "len(e)"
   ]
  },
  {
   "cell_type": "code",
   "execution_count": 26,
   "id": "70723cff",
   "metadata": {},
   "outputs": [
    {
     "name": "stdout",
     "output_type": "stream",
     "text": [
      "[185, 180, 177]\n"
     ]
    }
   ],
   "source": [
    "print(e) # list gồm những phần tử có giá trị bé hơn hoặc bằng 190 (list e ở đoạn code trên)"
   ]
  },
  {
   "cell_type": "markdown",
   "id": "01d05d07",
   "metadata": {},
   "source": [
    "Hoặc có thể làm như sau:"
   ]
  },
  {
   "cell_type": "code",
   "execution_count": 42,
   "id": "a14749c0",
   "metadata": {},
   "outputs": [
    {
     "name": "stdout",
     "output_type": "stream",
     "text": [
      "[185, 180, 177]\n"
     ]
    }
   ],
   "source": [
    "e1 = [i for i in tien_dt if i <= 190]\n",
    "print(e1)"
   ]
  },
  {
   "cell_type": "markdown",
   "id": "7deaa6db",
   "metadata": {},
   "source": [
    "f. Tính xem có bao nhiêu tháng mà tiền điện thoại dao động trong khoảng\n",
    "[190, 210] nghìn."
   ]
  },
  {
   "cell_type": "code",
   "execution_count": 8,
   "id": "dfd7ac0f",
   "metadata": {},
   "outputs": [
    {
     "data": {
      "text/plain": [
       "4"
      ]
     },
     "execution_count": 8,
     "metadata": {},
     "output_type": "execute_result"
    }
   ],
   "source": [
    "# Thỏa mãn cả 2 điểu kiện: and\n",
    "f=[]\n",
    "for i in range(len(tien_dt)):\n",
    "  if (tien_dt[i]>=190) & (tien_dt[i]<=210):\n",
    "    f.append(tien_dt[i])\n",
    "len(f)"
   ]
  },
  {
   "cell_type": "markdown",
   "id": "84304c6a",
   "metadata": {},
   "source": [
    "Vậy có 4 tháng thỏa mãn."
   ]
  },
  {
   "cell_type": "code",
   "execution_count": 28,
   "id": "0480415f",
   "metadata": {},
   "outputs": [
    {
     "name": "stdout",
     "output_type": "stream",
     "text": [
      "[198, 207, 203, 195]\n"
     ]
    }
   ],
   "source": [
    "print(f) # tiền điện thuộc khoảng [190, 210]"
   ]
  },
  {
   "cell_type": "code",
   "execution_count": 9,
   "id": "f59a5d0a",
   "metadata": {},
   "outputs": [
    {
     "name": "stdout",
     "output_type": "stream",
     "text": [
      "[198, 207, 203, 195]\n"
     ]
    }
   ],
   "source": [
    "# Hoặc có thể làm như sau:\n",
    "f1 = [i for i in tien_dt if ((i>=190) & (i <=210))]\n",
    "print(f1)"
   ]
  },
  {
   "cell_type": "code",
   "execution_count": 10,
   "id": "70b4d782",
   "metadata": {},
   "outputs": [
    {
     "name": "stdout",
     "output_type": "stream",
     "text": [
      "[185, 223, 221, 180, 222, 177, 214, 216]\n"
     ]
    }
   ],
   "source": [
    "# Thỏa mãn một trong 2 điểu kiện: or\n",
    "vd=[]\n",
    "for i in range(len(tien_dt)):\n",
    "  if (tien_dt[i]>=210) | (tien_dt[i]<=190):\n",
    "    vd.append(tien_dt[i])\n",
    "print(vd)"
   ]
  },
  {
   "cell_type": "markdown",
   "id": "b3e422b8",
   "metadata": {},
   "source": [
    "g. Tính số tiền điện thoại trung bình một tháng."
   ]
  },
  {
   "cell_type": "code",
   "execution_count": 30,
   "id": "5db6cb93",
   "metadata": {},
   "outputs": [
    {
     "data": {
      "text/plain": [
       "203.41666666666666"
      ]
     },
     "execution_count": 30,
     "metadata": {},
     "output_type": "execute_result"
    }
   ],
   "source": [
    "sum(tien_dt)/len(tien_dt)"
   ]
  },
  {
   "cell_type": "markdown",
   "id": "66f99254",
   "metadata": {},
   "source": [
    "Bài 3. Dùng dữ liệu tien_dt trên để thực hiện tiếp những yêu cầu sau:\n",
    "\n",
    "a. Sửa tiền điện thoại tháng 2 thành 175."
   ]
  },
  {
   "cell_type": "code",
   "execution_count": 31,
   "id": "bbf04557",
   "metadata": {},
   "outputs": [
    {
     "name": "stdout",
     "output_type": "stream",
     "text": [
      "[198, 185, 223, 221, 207, 203, 180, 195, 222, 177, 214, 216]\n"
     ]
    }
   ],
   "source": [
    "print(tien_dt)"
   ]
  },
  {
   "cell_type": "code",
   "execution_count": 32,
   "id": "e29b9525",
   "metadata": {},
   "outputs": [
    {
     "name": "stdout",
     "output_type": "stream",
     "text": [
      "[198, 175, 223, 221, 207, 203, 180, 195, 222, 177, 214, 216]\n"
     ]
    }
   ],
   "source": [
    "tien_dt[1]=175\n",
    "print(tien_dt)"
   ]
  },
  {
   "cell_type": "markdown",
   "id": "bd27147c",
   "metadata": {},
   "source": [
    "Tiền tháng 2 đã sửa thành 175"
   ]
  },
  {
   "cell_type": "markdown",
   "id": "2c3e6b06",
   "metadata": {},
   "source": [
    "b. Nhập thêm vào dãy trên tiền điện thoại của 3 tháng tiếp theo nhưng bạn quên\n",
    "mất số tiền tháng thứ 13, biết tháng thứ 14, 15 số tiền lần lượt là 201, 185.\n",
    "Sau đó tính lại số tiền trung bình bạn phải trả mỗi tháng."
   ]
  },
  {
   "cell_type": "code",
   "execution_count": 33,
   "id": "7cdb5691",
   "metadata": {},
   "outputs": [
    {
     "data": {
      "text/plain": [
       "[198, 175, 223, 221, 207, 203, 180, 195, 222, 177, 214, 216, None, 201, 185]"
      ]
     },
     "execution_count": 33,
     "metadata": {},
     "output_type": "execute_result"
    }
   ],
   "source": [
    "# Thêm phần tử vào list\n",
    "# Thêm từng phần tử một\n",
    "tien_dt.append(None) # thêm tháng 13 (quên số tiền nên nhập None)\n",
    "tien_dt.append(201) # thêm tháng 14\n",
    "tien_dt.append(185) # thêm tháng 15\n",
    "tien_dt"
   ]
  },
  {
   "cell_type": "code",
   "execution_count": 34,
   "id": "4a1eb607",
   "metadata": {},
   "outputs": [
    {
     "name": "stdout",
     "output_type": "stream",
     "text": [
      "[1, 4, 6, 4, 2, 8]\n"
     ]
    }
   ],
   "source": [
    "# Cách 2: Nối 2 list, xem ví dụ sau.\n",
    "a=[1,4,6]\n",
    "b=[4,2,8]\n",
    "c=a+b\n",
    "print(c)"
   ]
  },
  {
   "cell_type": "markdown",
   "id": "8493cabb",
   "metadata": {},
   "source": [
    "Để tính số tiền trung bình khi đã nhập thêm dữ liệu như trên, nếu dùng lệnh như trên: sum(tien_dt)/len(tien_dt) thì sẽ bị lỗi. Gặp lỗi là do tien_dt có chứa số liệu trống. Do đó ta phải loại số liệu trống trước khi tính trung bình."
   ]
  },
  {
   "cell_type": "code",
   "execution_count": 36,
   "id": "e9fcd8bb",
   "metadata": {},
   "outputs": [],
   "source": [
    "tien_dt.remove(None) # Loại số liệu trống trong list"
   ]
  },
  {
   "cell_type": "code",
   "execution_count": 37,
   "id": "fe3d3d85",
   "metadata": {},
   "outputs": [
    {
     "name": "stdout",
     "output_type": "stream",
     "text": [
      "[198, 175, 223, 221, 207, 203, 180, 195, 222, 177, 214, 216, 201, 185]\n"
     ]
    }
   ],
   "source": [
    "print(tien_dt)"
   ]
  },
  {
   "cell_type": "code",
   "execution_count": 38,
   "id": "250fd9bf",
   "metadata": {},
   "outputs": [
    {
     "data": {
      "text/plain": [
       "201.21428571428572"
      ]
     },
     "execution_count": 38,
     "metadata": {},
     "output_type": "execute_result"
    }
   ],
   "source": [
    "sum(tien_dt)/len(tien_dt) # tính trung bình"
   ]
  },
  {
   "cell_type": "code",
   "execution_count": null,
   "id": "cea8b7b1",
   "metadata": {},
   "outputs": [],
   "source": []
  }
 ],
 "metadata": {
  "kernelspec": {
   "display_name": "Python 3 (ipykernel)",
   "language": "python",
   "name": "python3"
  },
  "language_info": {
   "codemirror_mode": {
    "name": "ipython",
    "version": 3
   },
   "file_extension": ".py",
   "mimetype": "text/x-python",
   "name": "python",
   "nbconvert_exporter": "python",
   "pygments_lexer": "ipython3",
   "version": "3.10.9"
  }
 },
 "nbformat": 4,
 "nbformat_minor": 5
}
