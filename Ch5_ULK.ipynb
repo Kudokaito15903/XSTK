{
 "cells": [
  {
   "cell_type": "code",
   "execution_count": 1,
   "id": "083afb2f",
   "metadata": {},
   "outputs": [],
   "source": [
    "# Các gói cần dùng\n",
    "import scipy.stats as st\n",
    "import statsmodels\n",
    "import statsmodels.api\n",
    "import numpy as np\n",
    "import pandas as pd\n"
   ]
  },
  {
   "cell_type": "markdown",
   "id": "556ae065",
   "metadata": {},
   "source": [
    "### 1. Ước lượng khoảng cho trung bình tổng thể"
   ]
  },
  {
   "cell_type": "markdown",
   "id": "85454386",
   "metadata": {},
   "source": [
    "#### Ví Dụ 1:"
   ]
  },
  {
   "cell_type": "markdown",
   "id": "450a9367",
   "metadata": {},
   "source": [
    "Để ước tính trọng lượng của một con chuột, người ta chọn ngẫu nhiên 10 chú chuột. Dưới đây lần lượt là trọng lượng (gam) của 10 chú chuột trong mẫu.\n",
    "\n",
    "21, 23, 27, 19, 17, 18, 20, 15, 17, 22\n",
    "\n",
    "Giả sử trọng lượng của một con chuột tuân theo phân phối chuẩn. Từ\n",
    "bộ dữ liệu này,\n",
    "\n",
    "a. Đưa ra khoảng tin cậy 80% cho trọng lượng trung bình của các con chuột.\n",
    "\n",
    "b. Đưa ra khoảng tin cậy 95% cho trọng lượng trung bình của các con chuột. So\n",
    "sánh với kết quả tìm được trong câu (a) và đưa ra nhận xét."
   ]
  },
  {
   "cell_type": "code",
   "execution_count": 2,
   "id": "a6d90d32",
   "metadata": {},
   "outputs": [],
   "source": [
    "# Lệnh dùng ULK cho TB tong the\n",
    "?st.t.interval"
   ]
  },
  {
   "cell_type": "code",
   "execution_count": 4,
   "id": "4815bdea",
   "metadata": {},
   "outputs": [
    {
     "data": {
      "text/plain": [
       "(18.364761959544772, 21.435238040455225)"
      ]
     },
     "execution_count": 4,
     "metadata": {},
     "output_type": "execute_result"
    }
   ],
   "source": [
    "# Câu a\n",
    "mau=np.array([21, 23, 27, 19, 17, 18, 20, 15, 17, 22]) # nhập dữ liệu\n",
    "st.t.interval(confidence=0.8, loc=np.mean(mau),\n",
    "             scale=st.sem(mau), df=len(mau)-1)\n",
    "# confidence: độ tin cậy của ước lượng\n",
    "# loc: trung bình mẫu\n",
    "# df: bậc tự do (= n-1 = cỡ mẫu - 1)"
   ]
  },
  {
   "cell_type": "markdown",
   "id": "fe4fe2d3",
   "metadata": {},
   "source": [
    "Khoảng tin cậy 80% cho trọng lượng trung bình của các con chuột: [18.36, 21.44]"
   ]
  },
  {
   "cell_type": "code",
   "execution_count": 7,
   "id": "b7672433",
   "metadata": {},
   "outputs": [
    {
     "data": {
      "text/plain": [
       "ConfidenceInterval(low=18.36476195954477, high=21.43523804045523)"
      ]
     },
     "execution_count": 7,
     "metadata": {},
     "output_type": "execute_result"
    }
   ],
   "source": [
    "# Cách 2 tìm khoảng ước lượng cho trung bình tổng thể:\n",
    "kiemdinh = st.ttest_1samp(mau, popmean=0) #Lệnh thực hiện bài toán kiểm định (sẽ học chi tiết sau)\n",
    "kiemdinh.confidence_interval(confidence_level=0.8) #dùng method confidence_interval\n",
    "# để tìm ước lượng khoảng cho trung bình từ kết quả của bài toán kiểm định\n",
    "# Kết quả (18.36476195954477, 21.43523804045523) hoàn toàn trùng khớp với kq bên trên"
   ]
  },
  {
   "cell_type": "code",
   "execution_count": 6,
   "id": "fe10bba5",
   "metadata": {},
   "outputs": [
    {
     "data": {
      "text/plain": [
       "(17.388881009258824, 22.411118990741173)"
      ]
     },
     "execution_count": 6,
     "metadata": {},
     "output_type": "execute_result"
    }
   ],
   "source": [
    "# Câu b.\n",
    "st.t.interval(confidence=0.95,loc=np.mean(mau),scale=st.sem(mau),df=len(mau)-1)"
   ]
  },
  {
   "cell_type": "code",
   "execution_count": 8,
   "id": "66d53dcc",
   "metadata": {},
   "outputs": [
    {
     "data": {
      "text/plain": [
       "ConfidenceInterval(low=17.388881009258824, high=22.411118990741173)"
      ]
     },
     "execution_count": 8,
     "metadata": {},
     "output_type": "execute_result"
    }
   ],
   "source": [
    "#Hoặc\n",
    "kiemdinh.confidence_interval(confidence_level=0.95)"
   ]
  },
  {
   "cell_type": "markdown",
   "id": "91d50f48",
   "metadata": {},
   "source": [
    "Khoảng tin cậy 95% cho trọng lượng trung bình của các con chuột: [17.39, 22.41]\n",
    "\n",
    "Nhận xét: Độ tin cậy càng lớn thì khoảng ước lượng càng rộng."
   ]
  },
  {
   "cell_type": "markdown",
   "id": "b42cc5c3",
   "metadata": {},
   "source": [
    "#### Ví dụ 2:"
   ]
  },
  {
   "cell_type": "markdown",
   "id": "de67ab3f",
   "metadata": {},
   "source": [
    "Từ dữ liệu ThoiGianCho.csv hãy tìm khoảng tin cậy 90% cho thời gian chờ trung bình của tất cả các lượt khách hàng."
   ]
  },
  {
   "cell_type": "code",
   "execution_count": 10,
   "id": "431a776f",
   "metadata": {},
   "outputs": [],
   "source": [
    "tgc=pd.read_csv('ThoiGianCho.csv')"
   ]
  },
  {
   "cell_type": "code",
   "execution_count": 20,
   "id": "40eceb81",
   "metadata": {},
   "outputs": [
    {
     "name": "stdout",
     "output_type": "stream",
     "text": [
      "   ThoiGian\n",
      "0       1.6\n",
      "1       6.6\n",
      "2       5.6\n",
      "3       5.1\n",
      "4       3.9\n"
     ]
    }
   ],
   "source": [
    "print(tgc.head())"
   ]
  },
  {
   "cell_type": "code",
   "execution_count": 9,
   "id": "ba56297b",
   "metadata": {},
   "outputs": [
    {
     "data": {
      "text/plain": [
       "(5.048977596460333, 5.871022403539665)"
      ]
     },
     "execution_count": 9,
     "metadata": {},
     "output_type": "execute_result"
    }
   ],
   "source": [
    "st.t.interval(confidence=0.9,loc=np.mean(tgc.ThoiGian),\n",
    "              scale=st.sem(tgc.ThoiGian),df=len(tgc.ThoiGian)-1)"
   ]
  },
  {
   "cell_type": "code",
   "execution_count": 12,
   "id": "8f1ad924",
   "metadata": {},
   "outputs": [
    {
     "data": {
      "text/plain": [
       "ConfidenceInterval(low=5.048977596460333, high=5.871022403539665)"
      ]
     },
     "execution_count": 12,
     "metadata": {},
     "output_type": "execute_result"
    }
   ],
   "source": [
    "#Hoặc cách khác\n",
    "btkd = st.ttest_1samp(tgc.ThoiGian,popmean=0)\n",
    "btkd.confidence_interval(confidence_level=0.9)"
   ]
  },
  {
   "cell_type": "markdown",
   "id": "007ae7f2",
   "metadata": {},
   "source": [
    "Khoảng ước lượng cần tìm là [5.05, 5.87]"
   ]
  },
  {
   "cell_type": "markdown",
   "id": "c2cd7e8d",
   "metadata": {},
   "source": [
    "### 2. Khoảng tin cậy cho tỉ lệ"
   ]
  },
  {
   "cell_type": "code",
   "execution_count": 2,
   "id": "83539ce9",
   "metadata": {},
   "outputs": [
    {
     "data": {
      "text/plain": [
       "<function statsmodels.stats.proportion.proportion_confint(count, nobs, alpha=0.05, method='normal')>"
      ]
     },
     "execution_count": 2,
     "metadata": {},
     "output_type": "execute_result"
    }
   ],
   "source": [
    "#Lệnh tìm khoảng tin cậy cho tỉ lệ\n",
    "?statsmodels.stats.proportion.proportion_confint # xem chi tiết\n",
    "statsmodels.stats.proportion.proportion_confint # xem tham số"
   ]
  },
  {
   "cell_type": "markdown",
   "id": "d7d0508f",
   "metadata": {},
   "source": [
    "#### Ví dụ 1:"
   ]
  },
  {
   "cell_type": "markdown",
   "id": "5d5f94e0",
   "metadata": {},
   "source": [
    "Chọn ngẫu nhiên 1200 trẻ sơ sinh ở Việt Nam trong năm 2020 có 625 bé trai, 575\n",
    "bé gái 1 và 120 bé là con thứ ba trong gia đình. \n",
    "\n",
    "a. Tìm ước lượng điểm cho tỷ lệ sinh con trai, tỷ lệ sinh con gái và tỷ lệ sinh con thứ ba của Việt Nam năm 2020."
   ]
  },
  {
   "cell_type": "markdown",
   "id": "feaadafb",
   "metadata": {},
   "source": [
    "Các ước lượng điểm lần lượt là 625/1200; 575/1200 và 120/1200"
   ]
  },
  {
   "cell_type": "markdown",
   "id": "0572cdc4",
   "metadata": {},
   "source": [
    "b. Tìm khoảng ước lượng 99% cho tỷ lệ sinh con trai của Việt Nam năm 2020."
   ]
  },
  {
   "cell_type": "code",
   "execution_count": 14,
   "id": "9c1daa1d",
   "metadata": {},
   "outputs": [
    {
     "data": {
      "text/plain": [
       "(0.48368672715336297, 0.5579799395133037)"
      ]
     },
     "execution_count": 14,
     "metadata": {},
     "output_type": "execute_result"
    }
   ],
   "source": [
    "statsmodels.stats.proportion.proportion_confint(count=625,\n",
    "                   nobs = 1200, alpha=0.01)\n",
    "# count: số quan sát thành công (trong trường hợp này là số con trai)\n",
    "# nobs: cỡ mẫu\n",
    "# alpha = 1 - độ tin cậy (trong trường hợp này là 1 - 0.99 = 0.01)"
   ]
  },
  {
   "cell_type": "markdown",
   "id": "e37155c5",
   "metadata": {},
   "source": [
    "Kết quả: [0.48, 0.56]"
   ]
  },
  {
   "cell_type": "markdown",
   "id": "b1286ee2",
   "metadata": {},
   "source": [
    "#### Ví dụ 2:"
   ]
  },
  {
   "cell_type": "markdown",
   "id": "36982316",
   "metadata": {},
   "source": [
    "Từ tập dữ liệu mẫu SoLieu.csv hãy tìm khoảng tin cậy 90% cho tỉ lệ dân số ở khu vực thành phố."
   ]
  },
  {
   "cell_type": "code",
   "execution_count": 16,
   "id": "cfd2b7b5",
   "metadata": {},
   "outputs": [],
   "source": [
    "from statsmodels.stats.proportion import proportion_confint\n",
    "# Làm cho câu lệnh ước lượng khoảng tỷ lệ đỡ dài"
   ]
  },
  {
   "cell_type": "code",
   "execution_count": 21,
   "id": "6fac81e0",
   "metadata": {},
   "outputs": [
    {
     "data": {
      "text/plain": [
       "ThanhPho    42\n",
       "MienNui     26\n",
       "NongThon    20\n",
       "HaiDao      12\n",
       "Name: KhuVuc, dtype: int64"
      ]
     },
     "execution_count": 21,
     "metadata": {},
     "output_type": "execute_result"
    }
   ],
   "source": [
    "SL=pd.read_csv('SoLieu.csv')\n",
    "SL.head()\n",
    "SL.KhuVuc.value_counts()"
   ]
  },
  {
   "cell_type": "code",
   "execution_count": 22,
   "id": "7e5ca462",
   "metadata": {},
   "outputs": [
    {
     "data": {
      "text/plain": [
       "(0.3388168499368469, 0.5011831500631531)"
      ]
     },
     "execution_count": 22,
     "metadata": {},
     "output_type": "execute_result"
    }
   ],
   "source": [
    "proportion_confint(count=42, \n",
    "                   nobs=len(SL.KhuVuc),alpha=0.1)"
   ]
  },
  {
   "cell_type": "markdown",
   "id": "51cfb14a",
   "metadata": {},
   "source": [
    "#### Ví dụ 3:"
   ]
  },
  {
   "cell_type": "markdown",
   "id": "39bd02b3",
   "metadata": {},
   "source": [
    "Tìm khoảng tin cậy 95% cho ti le người dân có thu nhập trên 75 (dùng tập dữ liệu mẫu SoLieu.csv)."
   ]
  },
  {
   "cell_type": "code",
   "execution_count": 23,
   "id": "4db2e11d",
   "metadata": {},
   "outputs": [
    {
     "data": {
      "text/plain": [
       "100"
      ]
     },
     "execution_count": 23,
     "metadata": {},
     "output_type": "execute_result"
    }
   ],
   "source": [
    "len(SL.ThuNhap) # tìm nobs (cỡ mẫu)"
   ]
  },
  {
   "cell_type": "code",
   "execution_count": 25,
   "id": "1a4dcbae",
   "metadata": {},
   "outputs": [
    {
     "data": {
      "text/plain": [
       "15"
      ]
     },
     "execution_count": 25,
     "metadata": {},
     "output_type": "execute_result"
    }
   ],
   "source": [
    "np.sum(SL.ThuNhap>75) # tìm count (số quan sát thành công)\n",
    "# hoặc dùng lệnh len(SL.ThuNhap[SL.ThuNhap>75])"
   ]
  },
  {
   "cell_type": "code",
   "execution_count": 26,
   "id": "2b16c582",
   "metadata": {},
   "outputs": [
    {
     "data": {
      "text/plain": [
       "(0.08001528740942766, 0.21998471259057234)"
      ]
     },
     "execution_count": 26,
     "metadata": {},
     "output_type": "execute_result"
    }
   ],
   "source": [
    "proportion_confint(count=15,nobs=100,alpha=0.05)"
   ]
  },
  {
   "cell_type": "code",
   "execution_count": null,
   "id": "de7b9c78",
   "metadata": {},
   "outputs": [],
   "source": []
  }
 ],
 "metadata": {
  "kernelspec": {
   "display_name": "Python 3 (ipykernel)",
   "language": "python",
   "name": "python3"
  },
  "language_info": {
   "codemirror_mode": {
    "name": "ipython",
    "version": 3
   },
   "file_extension": ".py",
   "mimetype": "text/x-python",
   "name": "python",
   "nbconvert_exporter": "python",
   "pygments_lexer": "ipython3",
   "version": "3.10.9"
  }
 },
 "nbformat": 4,
 "nbformat_minor": 5
}
