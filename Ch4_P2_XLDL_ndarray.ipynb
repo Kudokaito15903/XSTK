{
 "cells": [
  {
   "cell_type": "markdown",
   "id": "d39191bf",
   "metadata": {
    "id": "d39191bf"
   },
   "source": [
    "I.2 Dữ liệu kiểu ndarray"
   ]
  },
  {
   "cell_type": "markdown",
   "id": "0e782a8e",
   "metadata": {
    "id": "0e782a8e"
   },
   "source": [
    "Thực hành Bài 1, 2, dùng dữ liệu kiểu ndarray (numpy)"
   ]
  },
  {
   "cell_type": "markdown",
   "id": "ccf3c693",
   "metadata": {
    "id": "ccf3c693"
   },
   "source": [
    "Giả sử bạn theo dõi số tiền (đơn vị nghìn đồng) trong hóa đơn điện thoại\n",
    "hàng tháng theo thứ tự từ tháng 1 đến tháng 12 trong năm vừa qua như sau:\n",
    "\n",
    "198  185  223  221  207  203  180  195  222  177  214  216\n",
    "\n",
    "a. Nhập dữ liệu thành một vec tơ có tên tien_dt."
   ]
  },
  {
   "cell_type": "code",
   "execution_count": 1,
   "id": "878d22a5",
   "metadata": {
    "id": "878d22a5"
   },
   "outputs": [],
   "source": [
    "import numpy as np"
   ]
  },
  {
   "cell_type": "code",
   "execution_count": 2,
   "id": "d2a74178",
   "metadata": {
    "id": "d2a74178"
   },
   "outputs": [],
   "source": [
    "# tạo mảng 1 chiều\n",
    "tien_dt=np.array([198, 185, 223, 221, 207, 203, 180, 195, 222, 177, 214, 216])"
   ]
  },
  {
   "cell_type": "code",
   "execution_count": null,
   "id": "d52339f1",
   "metadata": {
    "id": "d52339f1",
    "outputId": "4611d202-237d-4bf3-ac10-34c3bdb887eb"
   },
   "outputs": [
    {
     "data": {
      "text/plain": [
       "numpy.ndarray"
      ]
     },
     "execution_count": 3,
     "metadata": {},
     "output_type": "execute_result"
    }
   ],
   "source": [
    "type(tien_dt) # kiểu dữ liệu"
   ]
  },
  {
   "cell_type": "code",
   "execution_count": null,
   "id": "b9343e5c",
   "metadata": {
    "id": "b9343e5c",
    "outputId": "366812fa-477c-417b-d42a-851e443793d2"
   },
   "outputs": [
    {
     "data": {
      "text/plain": [
       "1"
      ]
     },
     "execution_count": 4,
     "metadata": {},
     "output_type": "execute_result"
    }
   ],
   "source": [
    "tien_dt.ndim # Xem số chiều của mảng"
   ]
  },
  {
   "cell_type": "code",
   "execution_count": null,
   "id": "786182bd",
   "metadata": {
    "id": "786182bd",
    "outputId": "baaa8105-8050-46fd-fc90-f64c0b1ce56a"
   },
   "outputs": [
    {
     "data": {
      "text/plain": [
       "(12,)"
      ]
     },
     "execution_count": 5,
     "metadata": {},
     "output_type": "execute_result"
    }
   ],
   "source": [
    "tien_dt.shape # Xem cấp của mảng"
   ]
  },
  {
   "cell_type": "code",
   "execution_count": null,
   "id": "c735d12b",
   "metadata": {
    "id": "c735d12b",
    "outputId": "638a9f67-5ee2-4fce-de98-18d2c004d240"
   },
   "outputs": [
    {
     "data": {
      "text/plain": [
       "12"
      ]
     },
     "execution_count": 6,
     "metadata": {},
     "output_type": "execute_result"
    }
   ],
   "source": [
    "len (tien_dt) # Số phần tử của mảng 1 chiều"
   ]
  },
  {
   "cell_type": "code",
   "execution_count": null,
   "id": "81707067",
   "metadata": {
    "id": "81707067",
    "outputId": "08236271-3a2a-4b76-a698-25e155073a05"
   },
   "outputs": [
    {
     "data": {
      "text/plain": [
       "2"
      ]
     },
     "execution_count": 7,
     "metadata": {},
     "output_type": "execute_result"
    }
   ],
   "source": [
    "a=np.array([[1,2,3],[2,3,4]]) # tạo mảng 2 chiều\n",
    "a.ndim"
   ]
  },
  {
   "cell_type": "code",
   "execution_count": null,
   "id": "6a9bf6b4",
   "metadata": {
    "id": "6a9bf6b4",
    "outputId": "0fb751f9-f3b0-4f59-a71f-b7196e2d439f"
   },
   "outputs": [
    {
     "data": {
      "text/plain": [
       "(2, 3)"
      ]
     },
     "execution_count": 8,
     "metadata": {},
     "output_type": "execute_result"
    }
   ],
   "source": [
    "a.shape"
   ]
  },
  {
   "cell_type": "code",
   "execution_count": null,
   "id": "b35d0e54",
   "metadata": {
    "id": "b35d0e54",
    "outputId": "050a8d91-738c-40d4-8a74-6dc5b098a147"
   },
   "outputs": [
    {
     "data": {
      "text/plain": [
       "2"
      ]
     },
     "execution_count": 9,
     "metadata": {},
     "output_type": "execute_result"
    }
   ],
   "source": [
    "len(a) # số phần tử của a, a có 2 phần tử, mỗi phần tử là một mảng 1 chiều gồm 3 phần tử"
   ]
  },
  {
   "cell_type": "code",
   "execution_count": null,
   "id": "e8082bb4",
   "metadata": {
    "id": "e8082bb4",
    "outputId": "411ce148-f558-4206-cd04-edff18d1a46a"
   },
   "outputs": [
    {
     "data": {
      "text/plain": [
       "223"
      ]
     },
     "execution_count": 10,
     "metadata": {},
     "output_type": "execute_result"
    }
   ],
   "source": [
    "# Hiển thị giá trị ở chỉ số (index) 2 (chú ý index tính từ 0, index là 2 tức là quan sát thứ 3 trong dãy)\n",
    "tien_dt[2]"
   ]
  },
  {
   "cell_type": "code",
   "execution_count": null,
   "id": "e56f87be",
   "metadata": {
    "id": "e56f87be",
    "outputId": "2b1c9b79-09bd-42e3-c988-f955e64400c2"
   },
   "outputs": [
    {
     "data": {
      "text/plain": [
       "214"
      ]
     },
     "execution_count": 11,
     "metadata": {},
     "output_type": "execute_result"
    }
   ],
   "source": [
    "tien_dt[-2] # phần tử thứ 2 tính từ cuối"
   ]
  },
  {
   "cell_type": "code",
   "execution_count": null,
   "id": "a73899b3",
   "metadata": {
    "id": "a73899b3",
    "outputId": "fc31592c-1449-4494-930c-8401bee90dd9"
   },
   "outputs": [
    {
     "data": {
      "text/plain": [
       "array([180, 222, 214])"
      ]
     },
     "execution_count": 12,
     "metadata": {},
     "output_type": "execute_result"
    }
   ],
   "source": [
    "tien_dt[-6::2] # các phần tử thứ 6, 4, 2 tính từ cuối (start:end:step)"
   ]
  },
  {
   "cell_type": "code",
   "execution_count": null,
   "id": "6e53ff3d",
   "metadata": {
    "id": "6e53ff3d",
    "outputId": "8c366ea0-dd45-4a24-9ded-f56ba96109ea"
   },
   "outputs": [
    {
     "name": "stdout",
     "output_type": "stream",
     "text": [
      "[223 221 207 203]\n"
     ]
    }
   ],
   "source": [
    "# Tạo mảng gồm các phần tử ở chỉ số từ 2 đến 5 (slice)\n",
    "t25 = tien_dt[2:6]\n",
    "print(t25)"
   ]
  },
  {
   "cell_type": "code",
   "execution_count": null,
   "id": "21f53ab4",
   "metadata": {
    "id": "21f53ab4",
    "outputId": "4147bfb5-f995-4a27-af4d-05a21046ac72"
   },
   "outputs": [
    {
     "name": "stdout",
     "output_type": "stream",
     "text": [
      "[185 221 203 195]\n"
     ]
    }
   ],
   "source": [
    "# Tạo mảng gồm các phần tử có index là 1,3,5,7 (slice)\n",
    "t1 = tien_dt[1:8:2] # start:end:step\n",
    "print(t1)"
   ]
  },
  {
   "cell_type": "code",
   "execution_count": null,
   "id": "ea5d6f05",
   "metadata": {
    "id": "ea5d6f05",
    "outputId": "9f00156c-5a71-4e98-c3d3-5aaa0a0385c4"
   },
   "outputs": [
    {
     "name": "stdout",
     "output_type": "stream",
     "text": [
      "[198 223 207 180 222 214]\n"
     ]
    }
   ],
   "source": [
    "#Tạo mảng gồm các phần tử có index chẵn (số thứ tự lẻ, index đánh số từ 0)\n",
    "tle = tien_dt[0:(len(tien_dt)+1):2]\n",
    "print(tle)"
   ]
  },
  {
   "cell_type": "code",
   "execution_count": null,
   "id": "b7734199",
   "metadata": {
    "id": "b7734199",
    "outputId": "89984f53-41e8-47a5-f5c7-8f82dfb478f9"
   },
   "outputs": [
    {
     "data": {
      "text/plain": [
       "(array([0, 1], dtype=int64),)"
      ]
     },
     "execution_count": 16,
     "metadata": {},
     "output_type": "execute_result"
    }
   ],
   "source": [
    "# index của một giá trị cụ thể\n",
    "a=np.array([2,2,4,6,7])\n",
    "np.where(a==2)"
   ]
  },
  {
   "cell_type": "markdown",
   "id": "f5a0dbf1",
   "metadata": {
    "id": "f5a0dbf1"
   },
   "source": [
    "Vậy giá trị 2 xuất hiện ở 2 vị trí có index là 0 và 1"
   ]
  },
  {
   "cell_type": "code",
   "execution_count": null,
   "id": "f193c983",
   "metadata": {
    "id": "f193c983",
    "outputId": "abd6036d-f210-4b67-ed11-0348cfd06fbd"
   },
   "outputs": [
    {
     "name": "stdout",
     "output_type": "stream",
     "text": [
      "[1 2 3 3 4 4 4 5]\n"
     ]
    }
   ],
   "source": [
    "# Xóa bớt phần tử của mảng\n",
    "a=np.array([1,2,3,3,4,4,4,5])\n",
    "print(a)"
   ]
  },
  {
   "cell_type": "code",
   "execution_count": null,
   "id": "298d4586",
   "metadata": {
    "id": "298d4586",
    "outputId": "f5e57354-4e3b-4942-d533-50213f3b09bd"
   },
   "outputs": [
    {
     "name": "stdout",
     "output_type": "stream",
     "text": [
      "[1 2 3 3 5]\n"
     ]
    }
   ],
   "source": [
    "# Xóa một giá trị cụ thể\n",
    "a1=np.delete(a,np.where(a==4))\n",
    "print(a1)"
   ]
  },
  {
   "cell_type": "code",
   "execution_count": null,
   "id": "d34c5ac4",
   "metadata": {
    "id": "d34c5ac4",
    "outputId": "107671a3-0183-4b7c-e5ce-5a4359e3da91"
   },
   "outputs": [
    {
     "name": "stdout",
     "output_type": "stream",
     "text": [
      "[1 2 3 4 4 5]\n"
     ]
    }
   ],
   "source": [
    "# Xóa theo index\n",
    "b1=np.delete(a,[2,4]) # Xóa các phần tử có index 2, 4\n",
    "print(b1)"
   ]
  },
  {
   "cell_type": "markdown",
   "id": "74a53dff",
   "metadata": {
    "id": "74a53dff"
   },
   "source": [
    "b. Tính tổng số tiền bạn phải trả cho phí điện thoại trong năm đó."
   ]
  },
  {
   "cell_type": "code",
   "execution_count": null,
   "id": "53b30365",
   "metadata": {
    "id": "53b30365",
    "outputId": "6440da8e-9d46-4c38-ecf8-0bcc47ad3671"
   },
   "outputs": [
    {
     "data": {
      "text/plain": [
       "2441"
      ]
     },
     "execution_count": 20,
     "metadata": {},
     "output_type": "execute_result"
    }
   ],
   "source": [
    "np.sum(tien_dt)"
   ]
  },
  {
   "cell_type": "markdown",
   "id": "c1721ffd",
   "metadata": {
    "id": "c1721ffd"
   },
   "source": [
    "c. Cho biết tháng nào có số tiền ít (nhiều) nhất và số tiền là bao nhiêu?"
   ]
  },
  {
   "cell_type": "code",
   "execution_count": null,
   "id": "5aa34fed",
   "metadata": {
    "id": "5aa34fed",
    "outputId": "c2f4ae5b-8ef2-4793-fb4a-ab822b039d2b"
   },
   "outputs": [
    {
     "data": {
      "text/plain": [
       "223"
      ]
     },
     "execution_count": 21,
     "metadata": {},
     "output_type": "execute_result"
    }
   ],
   "source": [
    "max(tien_dt)"
   ]
  },
  {
   "cell_type": "code",
   "execution_count": null,
   "id": "78786841",
   "metadata": {
    "id": "78786841",
    "outputId": "012a4f3b-4d6d-42da-87b4-e5d477b6b6eb"
   },
   "outputs": [
    {
     "data": {
      "text/plain": [
       "177"
      ]
     },
     "execution_count": 22,
     "metadata": {},
     "output_type": "execute_result"
    }
   ],
   "source": [
    "min(tien_dt)"
   ]
  },
  {
   "cell_type": "code",
   "execution_count": null,
   "id": "1b26c808",
   "metadata": {
    "id": "1b26c808",
    "outputId": "8a267192-2f35-492c-aaca-b90cd2376eaf"
   },
   "outputs": [
    {
     "data": {
      "text/plain": [
       "(array([2], dtype=int64),)"
      ]
     },
     "execution_count": 23,
     "metadata": {},
     "output_type": "execute_result"
    }
   ],
   "source": [
    "np.where(tien_dt==max(tien_dt))"
   ]
  },
  {
   "cell_type": "markdown",
   "id": "55ccd4f7",
   "metadata": {
    "id": "55ccd4f7"
   },
   "source": [
    "Tháng 3 (index là 2) có số tiền lớn nhất"
   ]
  },
  {
   "cell_type": "code",
   "execution_count": null,
   "id": "de95d222",
   "metadata": {
    "id": "de95d222",
    "outputId": "29e9a5e2-5cad-46da-e414-cba06b51cb8b"
   },
   "outputs": [
    {
     "data": {
      "text/plain": [
       "(array([9], dtype=int64),)"
      ]
     },
     "execution_count": 24,
     "metadata": {},
     "output_type": "execute_result"
    }
   ],
   "source": [
    "np.where(tien_dt==min(tien_dt))"
   ]
  },
  {
   "cell_type": "markdown",
   "id": "ba4b9c0b",
   "metadata": {
    "id": "ba4b9c0b"
   },
   "source": [
    "d. Cho biết những tháng bạn phải trả hơn 200 nghìn tiền điện thoại. Có bao nhiêu\n",
    "tháng như thế?"
   ]
  },
  {
   "cell_type": "code",
   "execution_count": null,
   "id": "141f52d6",
   "metadata": {
    "id": "141f52d6",
    "outputId": "07025336-3a15-4e07-fd4f-17a7c2469002"
   },
   "outputs": [
    {
     "name": "stdout",
     "output_type": "stream",
     "text": [
      "(array([ 2,  3,  4,  5,  8, 10, 11], dtype=int64),)\n"
     ]
    }
   ],
   "source": [
    "t200=np.where(tien_dt>200)\n",
    "print(t200)"
   ]
  },
  {
   "cell_type": "code",
   "execution_count": null,
   "id": "1136021c",
   "metadata": {
    "id": "1136021c",
    "outputId": "643b93a0-f467-419a-bd4e-a468c19296b4"
   },
   "outputs": [
    {
     "data": {
      "text/plain": [
       "7"
      ]
     },
     "execution_count": 29,
     "metadata": {},
     "output_type": "execute_result"
    }
   ],
   "source": [
    "len(t200[0]) # đếm số tháng thỏa mãn"
   ]
  },
  {
   "cell_type": "markdown",
   "id": "f3bf7761",
   "metadata": {
    "id": "f3bf7761"
   },
   "source": [
    "e. Tính xem có bao nhiêu tháng mà tiền điện thoại không quá 190 nghìn."
   ]
  },
  {
   "cell_type": "code",
   "execution_count": null,
   "id": "4a952e60",
   "metadata": {
    "id": "4a952e60",
    "outputId": "7f35ba98-f1a1-41a8-b878-674f299461da"
   },
   "outputs": [
    {
     "name": "stdout",
     "output_type": "stream",
     "text": [
      "(array([1, 6, 9], dtype=int64),)\n"
     ]
    }
   ],
   "source": [
    "t190=np.where(tien_dt <= 190)\n",
    "print(t190)"
   ]
  },
  {
   "cell_type": "markdown",
   "id": "00ed31bf",
   "metadata": {
    "id": "00ed31bf"
   },
   "source": [
    "e1. Tạo ra một mảng con (slice) gồm các quan sát <= 190"
   ]
  },
  {
   "cell_type": "code",
   "execution_count": null,
   "id": "7fb1fd83",
   "metadata": {
    "id": "7fb1fd83",
    "outputId": "fda2a773-068c-468a-d3ca-91182cbc72ca"
   },
   "outputs": [
    {
     "name": "stdout",
     "output_type": "stream",
     "text": [
      "[185 180 177]\n"
     ]
    }
   ],
   "source": [
    "ds = tien_dt[np.where(tien_dt <= 190)]\n",
    "print(ds)"
   ]
  },
  {
   "cell_type": "code",
   "execution_count": null,
   "id": "2402eba2",
   "metadata": {
    "id": "2402eba2",
    "outputId": "44446119-c297-43ed-853a-d0feea379ea7"
   },
   "outputs": [
    {
     "data": {
      "text/plain": [
       "array([185, 180, 177])"
      ]
     },
     "execution_count": 4,
     "metadata": {},
     "output_type": "execute_result"
    }
   ],
   "source": [
    "# hoặc\n",
    "tien_dt[tien_dt <= 190]"
   ]
  },
  {
   "cell_type": "markdown",
   "id": "5ad3ec88",
   "metadata": {
    "id": "5ad3ec88"
   },
   "source": [
    "f. Tính xem có bao nhiêu tháng mà tiền điện thoại dao động trong khoảng\n",
    "[190, 210] nghìn."
   ]
  },
  {
   "cell_type": "code",
   "execution_count": null,
   "id": "3d2839a8",
   "metadata": {
    "id": "3d2839a8",
    "outputId": "8c5c5177-63f2-47a5-b000-236611c564b8"
   },
   "outputs": [
    {
     "name": "stdout",
     "output_type": "stream",
     "text": [
      "(array([0, 4, 5, 7], dtype=int64),)\n"
     ]
    }
   ],
   "source": [
    "td1 = np.where((tien_dt <= 210) & (tien_dt >= 190))\n",
    "print(td1)"
   ]
  },
  {
   "cell_type": "code",
   "execution_count": 4,
   "id": "eda6df1a",
   "metadata": {},
   "outputs": [
    {
     "data": {
      "text/plain": [
       "array([198, 207, 203, 195])"
      ]
     },
     "execution_count": 4,
     "metadata": {},
     "output_type": "execute_result"
    }
   ],
   "source": [
    "#Lọc ra các quan sát thỏa mãn điều kiện\n",
    "tien_dt[(tien_dt <= 210) & (tien_dt >= 190)]"
   ]
  },
  {
   "cell_type": "code",
   "execution_count": null,
   "id": "cd02eeef",
   "metadata": {
    "id": "cd02eeef",
    "outputId": "3277f5b8-a693-4d43-c021-708abe2d0be7"
   },
   "outputs": [
    {
     "data": {
      "text/plain": [
       "4"
      ]
     },
     "execution_count": 49,
     "metadata": {},
     "output_type": "execute_result"
    }
   ],
   "source": [
    "len(td1[0])"
   ]
  },
  {
   "cell_type": "markdown",
   "id": "ec26800e",
   "metadata": {
    "id": "ec26800e"
   },
   "source": [
    "g. Tính số tiền điện thoại trung bình một tháng."
   ]
  },
  {
   "cell_type": "code",
   "execution_count": null,
   "id": "779f55a1",
   "metadata": {
    "id": "779f55a1",
    "outputId": "680e4bc7-b208-4b52-fb06-a0cd6261adf3"
   },
   "outputs": [
    {
     "data": {
      "text/plain": [
       "203.41666666666666"
      ]
     },
     "execution_count": 50,
     "metadata": {},
     "output_type": "execute_result"
    }
   ],
   "source": [
    "np.mean(tien_dt)"
   ]
  },
  {
   "cell_type": "markdown",
   "id": "8a34d5fb",
   "metadata": {
    "id": "8a34d5fb"
   },
   "source": [
    "Bài 3. Dùng dữ liệu tien_dt trên để thực hiện tiếp những yêu cầu sau:\n",
    "\n",
    "a. Sửa tiền điện thoại tháng 2 thành 175."
   ]
  },
  {
   "cell_type": "code",
   "execution_count": null,
   "id": "d541ce42",
   "metadata": {
    "id": "d541ce42",
    "outputId": "758c53ab-8da5-4d03-f257-adaef0c35af6"
   },
   "outputs": [
    {
     "name": "stdout",
     "output_type": "stream",
     "text": [
      "[198 185 223 221 207 203 180 195 222 177 214 216]\n"
     ]
    }
   ],
   "source": [
    "print(tien_dt)"
   ]
  },
  {
   "cell_type": "code",
   "execution_count": null,
   "id": "4c61d6ca",
   "metadata": {
    "id": "4c61d6ca",
    "outputId": "07fc6edb-d65c-4eee-aeee-9e261f0e577a"
   },
   "outputs": [
    {
     "name": "stdout",
     "output_type": "stream",
     "text": [
      "[198 175 223 221 207 203 180 195 222 177 214 216]\n"
     ]
    }
   ],
   "source": [
    "tien_dt[1]=175\n",
    "print(tien_dt)"
   ]
  },
  {
   "cell_type": "markdown",
   "id": "609b3fa6",
   "metadata": {
    "id": "609b3fa6"
   },
   "source": [
    "b. Nhập thêm vào dãy trên tiền điện thoại của 3 tháng tiếp theo nhưng bạn quên\n",
    "mất số tiền tháng thứ 13, biết tháng thứ 14, 15 số tiền lần lượt là 201, 185.\n",
    "Sau đó tính lại số tiền trung bình bạn phải trả mỗi tháng."
   ]
  },
  {
   "cell_type": "code",
   "execution_count": null,
   "id": "c4ee9ea9",
   "metadata": {
    "id": "c4ee9ea9",
    "outputId": "426d7fe9-a6f0-4872-dec4-e9eddaf66bb1"
   },
   "outputs": [
    {
     "name": "stdout",
     "output_type": "stream",
     "text": [
      "[198 175 223 221 207 203 180 195 222 177 214 216 None 201 185]\n"
     ]
    }
   ],
   "source": [
    "them=np.array([None,201,185])\n",
    "tiendt_15th=np.concatenate((tien_dt,them))\n",
    "print(tiendt_15th)"
   ]
  },
  {
   "cell_type": "code",
   "execution_count": null,
   "id": "305b7de9",
   "metadata": {
    "id": "305b7de9",
    "outputId": "c2144fd6-44b5-42b5-f854-d68cb620fd8a"
   },
   "outputs": [
    {
     "ename": "TypeError",
     "evalue": "unsupported operand type(s) for +: 'int' and 'NoneType'",
     "output_type": "error",
     "traceback": [
      "\u001b[1;31m---------------------------------------------------------------------------\u001b[0m",
      "\u001b[1;31mTypeError\u001b[0m                                 Traceback (most recent call last)",
      "Cell \u001b[1;32mIn[62], line 1\u001b[0m\n\u001b[1;32m----> 1\u001b[0m \u001b[43mnp\u001b[49m\u001b[38;5;241;43m.\u001b[39;49m\u001b[43mmean\u001b[49m\u001b[43m(\u001b[49m\u001b[43mtiendt_15th\u001b[49m\u001b[43m)\u001b[49m\n",
      "File \u001b[1;32m<__array_function__ internals>:180\u001b[0m, in \u001b[0;36mmean\u001b[1;34m(*args, **kwargs)\u001b[0m\n",
      "File \u001b[1;32mD:\\Anaconda\\lib\\site-packages\\numpy\\core\\fromnumeric.py:3432\u001b[0m, in \u001b[0;36mmean\u001b[1;34m(a, axis, dtype, out, keepdims, where)\u001b[0m\n\u001b[0;32m   3429\u001b[0m     \u001b[38;5;28;01melse\u001b[39;00m:\n\u001b[0;32m   3430\u001b[0m         \u001b[38;5;28;01mreturn\u001b[39;00m mean(axis\u001b[38;5;241m=\u001b[39maxis, dtype\u001b[38;5;241m=\u001b[39mdtype, out\u001b[38;5;241m=\u001b[39mout, \u001b[38;5;241m*\u001b[39m\u001b[38;5;241m*\u001b[39mkwargs)\n\u001b[1;32m-> 3432\u001b[0m \u001b[38;5;28;01mreturn\u001b[39;00m _methods\u001b[38;5;241m.\u001b[39m_mean(a, axis\u001b[38;5;241m=\u001b[39maxis, dtype\u001b[38;5;241m=\u001b[39mdtype,\n\u001b[0;32m   3433\u001b[0m                       out\u001b[38;5;241m=\u001b[39mout, \u001b[38;5;241m*\u001b[39m\u001b[38;5;241m*\u001b[39mkwargs)\n",
      "File \u001b[1;32mD:\\Anaconda\\lib\\site-packages\\numpy\\core\\_methods.py:180\u001b[0m, in \u001b[0;36m_mean\u001b[1;34m(a, axis, dtype, out, keepdims, where)\u001b[0m\n\u001b[0;32m    177\u001b[0m         dtype \u001b[38;5;241m=\u001b[39m mu\u001b[38;5;241m.\u001b[39mdtype(\u001b[38;5;124m'\u001b[39m\u001b[38;5;124mf4\u001b[39m\u001b[38;5;124m'\u001b[39m)\n\u001b[0;32m    178\u001b[0m         is_float16_result \u001b[38;5;241m=\u001b[39m \u001b[38;5;28;01mTrue\u001b[39;00m\n\u001b[1;32m--> 180\u001b[0m ret \u001b[38;5;241m=\u001b[39m \u001b[43mumr_sum\u001b[49m\u001b[43m(\u001b[49m\u001b[43marr\u001b[49m\u001b[43m,\u001b[49m\u001b[43m \u001b[49m\u001b[43maxis\u001b[49m\u001b[43m,\u001b[49m\u001b[43m \u001b[49m\u001b[43mdtype\u001b[49m\u001b[43m,\u001b[49m\u001b[43m \u001b[49m\u001b[43mout\u001b[49m\u001b[43m,\u001b[49m\u001b[43m \u001b[49m\u001b[43mkeepdims\u001b[49m\u001b[43m,\u001b[49m\u001b[43m \u001b[49m\u001b[43mwhere\u001b[49m\u001b[38;5;241;43m=\u001b[39;49m\u001b[43mwhere\u001b[49m\u001b[43m)\u001b[49m\n\u001b[0;32m    181\u001b[0m \u001b[38;5;28;01mif\u001b[39;00m \u001b[38;5;28misinstance\u001b[39m(ret, mu\u001b[38;5;241m.\u001b[39mndarray):\n\u001b[0;32m    182\u001b[0m     ret \u001b[38;5;241m=\u001b[39m um\u001b[38;5;241m.\u001b[39mtrue_divide(\n\u001b[0;32m    183\u001b[0m             ret, rcount, out\u001b[38;5;241m=\u001b[39mret, casting\u001b[38;5;241m=\u001b[39m\u001b[38;5;124m'\u001b[39m\u001b[38;5;124munsafe\u001b[39m\u001b[38;5;124m'\u001b[39m, subok\u001b[38;5;241m=\u001b[39m\u001b[38;5;28;01mFalse\u001b[39;00m)\n",
      "\u001b[1;31mTypeError\u001b[0m: unsupported operand type(s) for +: 'int' and 'NoneType'"
     ]
    }
   ],
   "source": [
    "np.mean(tiendt_15th) # bị lỗi do có số liệu trống => Phải loại bỏ số liệu trống"
   ]
  },
  {
   "cell_type": "code",
   "execution_count": null,
   "id": "fd13bb08",
   "metadata": {
    "id": "fd13bb08",
    "outputId": "5218d218-b473-4286-c0a0-b88f10ef6657"
   },
   "outputs": [
    {
     "data": {
      "text/plain": [
       "201.21428571428572"
      ]
     },
     "execution_count": 63,
     "metadata": {},
     "output_type": "execute_result"
    }
   ],
   "source": [
    "tiendt_14th = np.delete(tiendt_15th,np.where(tiendt_15th== None)) # loại số liệu trống\n",
    "np.mean(tiendt_14th)"
   ]
  }
 ],
 "metadata": {
  "colab": {
   "provenance": []
  },
  "kernelspec": {
   "display_name": "Python 3 (ipykernel)",
   "language": "python",
   "name": "python3"
  },
  "language_info": {
   "codemirror_mode": {
    "name": "ipython",
    "version": 3
   },
   "file_extension": ".py",
   "mimetype": "text/x-python",
   "name": "python",
   "nbconvert_exporter": "python",
   "pygments_lexer": "ipython3",
   "version": "3.10.9"
  }
 },
 "nbformat": 4,
 "nbformat_minor": 5
}
