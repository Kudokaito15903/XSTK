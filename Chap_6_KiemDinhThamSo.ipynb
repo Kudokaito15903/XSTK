{
 "cells": [
  {
   "cell_type": "code",
   "execution_count": 4,
   "id": "161eb1d8",
   "metadata": {},
   "outputs": [],
   "source": [
    "# Các gói cần dùng\n",
    "import numpy as np\n",
    "import statsmodels\n",
    "import scipy.stats\n",
    "import pandas as pd"
   ]
  },
  {
   "cell_type": "markdown",
   "id": "bb38047b",
   "metadata": {},
   "source": [
    "### I. Kiểm định một trung bình"
   ]
  },
  {
   "cell_type": "code",
   "execution_count": 1,
   "id": "6b59d60f",
   "metadata": {},
   "outputs": [],
   "source": [
    "# xem chi tiết các tham số\n",
    "from scipy.stats import ttest_1samp\n",
    "?ttest_1samp"
   ]
  },
  {
   "cell_type": "code",
   "execution_count": 2,
   "id": "fb2d96bc",
   "metadata": {},
   "outputs": [
    {
     "data": {
      "text/plain": [
       "<function scipy.stats._stats_py.ttest_1samp(a, popmean, axis=0, nan_policy='propagate', alternative='two-sided', *, keepdims=False)>"
      ]
     },
     "execution_count": 2,
     "metadata": {},
     "output_type": "execute_result"
    }
   ],
   "source": [
    "ttest_1samp # xem tên các tham số"
   ]
  },
  {
   "cell_type": "markdown",
   "id": "762967a3",
   "metadata": {},
   "source": [
    "#### Hướng dẫn cách dùng tham số:\n",
    "\n",
    "scipy.stats.ttest_1samp(a, popmean, nan_policy='propagate', \n",
    "                        alternative='two-sided')\n",
    "                        \n",
    "Trong đó, a: array-like chứa dữ liệu mẫu\n",
    "\n",
    "popmean: Giá trị mu_0 trong H0\n",
    "\n",
    "nan_policy : {'propagate', 'omit', 'raise'} cách thức xử lý số liệu trống\n",
    "\n",
    "    + propagate: không tính toán, trả ra NaN\n",
    "    \n",
    "    + omit: NaN được loại bỏ trước khi tính toán\n",
    "    \n",
    "    + raise: Một cách thức tính khác \n",
    "    \n",
    "Nếu khi có số liệu trống trong bài, ta sẽ sử dụng 'omit'\n",
    "\n",
    "alternative : {'two-sided', 'less', 'greater'}: mô tả giả thuyết đối\n",
    "\n",
    "    + two-sided: hai bên\n",
    "    \n",
    "    + less: bên trái\n",
    "    \n",
    "    + greater: bên phải"
   ]
  },
  {
   "cell_type": "markdown",
   "id": "5a4de0d7",
   "metadata": {},
   "source": [
    "Bai 16: Chiều cao trung bình của nam giới của một nước được cho là 1.78\n",
    "m. Để kiểm tra chiều cao của nam giới tại một thành phố có ở mức trung bình như\n",
    "trên toàn quốc hay không, một mẫu ngẫu nhiên gồm 20 người là nam giới được chọn\n",
    "ra. Chiều cao của họ được ghi lại trong file ChieuCao.csv. Cho biết chiều cao nam giới tại thành phố này tuân theo phân phối chuẩn, hãy kết\n",
    "luận ở mức ý nghĩa α = 1%."
   ]
  },
  {
   "cell_type": "code",
   "execution_count": 5,
   "id": "8ad69fdc",
   "metadata": {},
   "outputs": [],
   "source": [
    "ChieuCao=pd.read_csv('ChieuCao.csv')"
   ]
  },
  {
   "cell_type": "code",
   "execution_count": 6,
   "id": "465ace2f",
   "metadata": {},
   "outputs": [
    {
     "name": "stdout",
     "output_type": "stream",
     "text": [
      "   TT  ChieuCao\n",
      "0   1      1.83\n",
      "1   2      1.73\n",
      "2   3      1.76\n",
      "3   4      1.85\n",
      "4   5      1.81\n"
     ]
    }
   ],
   "source": [
    "print(ChieuCao.head())"
   ]
  },
  {
   "cell_type": "markdown",
   "id": "ca0f785e",
   "metadata": {},
   "source": [
    "Gọi m là chiều cao trung bình của nam giới ở vùng này.\n",
    "\n",
    "H0: m = 1.78         \n",
    "\n",
    "H1: m # 178\n",
    "\n",
    "p-giá trị = 0.006 < 0.01 => Bác bỏ H0\n",
    "\n",
    "=> Ở mức ý nghĩa 1% ta kết luận: Chiều cao trung bình của nam giới ở vùng này không giống như trên toàn quốc."
   ]
  },
  {
   "cell_type": "code",
   "execution_count": 7,
   "id": "9008362b",
   "metadata": {},
   "outputs": [
    {
     "data": {
      "text/plain": [
       "TtestResult(statistic=3.085293839515478, pvalue=0.006091466065562459, df=19)"
      ]
     },
     "execution_count": 7,
     "metadata": {},
     "output_type": "execute_result"
    }
   ],
   "source": [
    "# Lệnh thực hiện tìm p-giá trị\n",
    "ttest_1samp(ChieuCao.ChieuCao,popmean=1.78,alternative='two-sided')"
   ]
  },
  {
   "cell_type": "markdown",
   "id": "f55cb814",
   "metadata": {},
   "source": [
    "Trong kết quả này, \n",
    "+ statistic cho biết giá trị kiểm định t, \n",
    "+ pvalue: cho biết p - giá trị\n",
    "+ df: cho biết bậc tự do của thống kê t"
   ]
  },
  {
   "cell_type": "markdown",
   "id": "23399e74",
   "metadata": {},
   "source": [
    "Bài 19: Một công ty sản xuất những tấm nhựa dùng trong công nghiêp vừa\n",
    "đưa ra một sản phẩm mới và cho rằng sản phẩm này có thể chịu được sức ép trung\n",
    "bình ít nhất là 30 (psi), ở đây khả năng chịu lực được tính bằng số pound cần thiết\n",
    "làm vỡ tấm nhựa trên một diện tích 1 inch vuông. Dữ liệu sau đây cho biết khả\n",
    "năng chịu lực của một mẫu gồm 16 tấm nhựa (file dữ liệu Nhua.txt). Giả thiết rằng khả năng chịu lực của các tấm nhựa tuân theo phân phối chuẩn, dựa\n",
    "vào dữ liệu hãy kết luận về khẳng định của công ty với mức ý nghĩa α = 5%."
   ]
  },
  {
   "cell_type": "code",
   "execution_count": 8,
   "id": "bc0732f8",
   "metadata": {},
   "outputs": [
    {
     "name": "stdout",
     "output_type": "stream",
     "text": [
      "   DoBen\n",
      "0   30.1\n",
      "1   32.7\n",
      "2   22.5\n",
      "3   27.5\n",
      "4   27.7\n"
     ]
    }
   ],
   "source": [
    "Nhua=pd.read_csv('Nhua.txt')\n",
    "print(Nhua.head())"
   ]
  },
  {
   "cell_type": "markdown",
   "id": "5e4b9495",
   "metadata": {},
   "source": [
    "Gọi m là khả năng chịu lực trung bình của các tấm nhựa sản xuất bởi công ty này.\n",
    "\n",
    "H0: m >= 30\n",
    "\n",
    "H1: m < 30\n",
    "\n",
    "p-giá trị = 0.042 < 0.05 => Bác bỏ H0 => Ở mức ý nghĩa 5% ta kết luận khẳng định của công ty là không đúng."
   ]
  },
  {
   "cell_type": "code",
   "execution_count": 9,
   "id": "50545fce",
   "metadata": {},
   "outputs": [
    {
     "data": {
      "text/plain": [
       "TtestResult(statistic=-1.8466293347032539, pvalue=0.042312203258501976, df=15)"
      ]
     },
     "execution_count": 9,
     "metadata": {},
     "output_type": "execute_result"
    }
   ],
   "source": [
    "# Lệnh tìm p-giá trị\n",
    "ttest_1samp(Nhua.DoBen,popmean=30,alternative='less')"
   ]
  },
  {
   "cell_type": "markdown",
   "id": "e7d59dc3",
   "metadata": {},
   "source": [
    "#### 2. Kiểm định 1 tỷ lệ\n",
    "Lệnh thực hiện:"
   ]
  },
  {
   "cell_type": "code",
   "execution_count": 10,
   "id": "b667cd8f",
   "metadata": {},
   "outputs": [],
   "source": [
    "# chi tiết các tham số\n",
    "from statsmodels.stats.proportion import proportions_ztest\n",
    "?proportions_ztest "
   ]
  },
  {
   "cell_type": "code",
   "execution_count": 23,
   "id": "694ff601",
   "metadata": {},
   "outputs": [
    {
     "data": {
      "text/plain": [
       "<function statsmodels.stats.proportion.proportions_ztest(count, nobs, value=None, alternative='two-sided', prop_var=False)>"
      ]
     },
     "execution_count": 23,
     "metadata": {},
     "output_type": "execute_result"
    }
   ],
   "source": [
    "# các tham số\n",
    "proportions_ztest "
   ]
  },
  {
   "cell_type": "markdown",
   "id": "2cb7044d",
   "metadata": {},
   "source": [
    "#### Hướng dẫn cách dùng các tham số\n",
    "##### proportions_ztest(count,nobs,value=None,alternative='two-sided')\n",
    "\n",
    "Trong đó, count: số quan sát thành công\n",
    "\n",
    "nobs: Cỡ mẫu\n",
    "\n",
    "value: giá trị cần so sánh với tỷ lệ tổng thể p trong H0\n",
    "\n",
    "alternative: {'two-sided', 'smaller', 'larger'}: mô tả giả thuyết đối"
   ]
  },
  {
   "cell_type": "markdown",
   "id": "8c81f955",
   "metadata": {},
   "source": [
    "Problem 20. Theo số liệu trước đây, dây chuyền sản xuất tại một nhà máy có tỷ\n",
    "lệ phế phẩm là 7%. Người ta muốn kiểm tra xem tỷ lệ này có thay đổi không nên\n",
    "đã chọn ngẫu nhiên 250 sản phẩm đem kiểm tra thấy có 20 sản phẩm bị loại. Hãy\n",
    "tiến hành bài toán kiểm định tại mức ý nghĩa α = 1%.\n",
    "\n",
    "Giải: Gọi p là tỷ lệ phế phấm của nhà máy ở hiện tại\n",
    "\n",
    "H0: p = 0.07\n",
    "\n",
    "H1: p # 0.07\n",
    "\n",
    "p-giá trị = 0.56 > 0.01 => Chấp nhận H0\n",
    "=> Ở mức ý nghĩa 1% ta kết luận tỷ lệ phế phẩm của nhà máy không thay đổi."
   ]
  },
  {
   "cell_type": "code",
   "execution_count": 16,
   "id": "47c21d20",
   "metadata": {},
   "outputs": [
    {
     "data": {
      "text/plain": [
       "(0.5828155051501958, 0.5600175059745569)"
      ]
     },
     "execution_count": 16,
     "metadata": {},
     "output_type": "execute_result"
    }
   ],
   "source": [
    "# Lệnh bài Bài 20\n",
    "from statsmodels.stats.proportion import proportions_ztest\n",
    "proportions_ztest(count=20,nobs=250,value=0.07,alternative='two-sided')"
   ]
  },
  {
   "cell_type": "markdown",
   "id": "40dd1129",
   "metadata": {},
   "source": [
    "Kết quả trả ra:\n",
    "0.5828155051501958 (số viết trước) là giá trị kiểm định z\n",
    "\n",
    "0.5600175059745569 (số viết sau) là p-giá trị"
   ]
  },
  {
   "cell_type": "markdown",
   "id": "69205c11",
   "metadata": {},
   "source": [
    "Problem 21. Dùng file dữ liệu ThoiGianCho.csv kiểm định giả thuyết tỷ lệ lượt khách\n",
    "hàng phải chờ trên 7 phút không vượt quá 25%, tại mức ý nghĩa α = 5%.\n",
    "\n",
    "Giải: Gọi p là tỷ lệ lượt khách hàng phải chờ trên 7 phút.\n",
    "\n",
    "H0: p <= 0.25\n",
    "\n",
    "H1: p > 0.25\n",
    "\n",
    "p-giá trị = 0.4098 > 0.05 => Chấp nhận H0 => Ở mức ý nghĩa 5% ta kết luận tỷ lệ lượt khách hàng phải chờ trên 7 phút không vượt quá 25%."
   ]
  },
  {
   "cell_type": "code",
   "execution_count": 6,
   "id": "6e345dc5",
   "metadata": {},
   "outputs": [
    {
     "name": "stdout",
     "output_type": "stream",
     "text": [
      "   ThoiGian\n",
      "0       1.6\n",
      "1       6.6\n",
      "2       5.6\n",
      "3       5.1\n",
      "4       3.9\n"
     ]
    }
   ],
   "source": [
    "#Lệnh thực hiện Bài 21\n",
    "TGC=pd.read_csv('ThoiGianCho.csv')\n",
    "print(TGC.head())"
   ]
  },
  {
   "cell_type": "code",
   "execution_count": 8,
   "id": "ba3e6475",
   "metadata": {},
   "outputs": [
    {
     "data": {
      "text/plain": [
       "26"
      ]
     },
     "execution_count": 8,
     "metadata": {},
     "output_type": "execute_result"
    }
   ],
   "source": [
    "np.sum(TGC.ThoiGian>7) # tìm count"
   ]
  },
  {
   "cell_type": "code",
   "execution_count": 7,
   "id": "e53f26af",
   "metadata": {},
   "outputs": [
    {
     "data": {
      "text/plain": [
       "100"
      ]
     },
     "execution_count": 7,
     "metadata": {},
     "output_type": "execute_result"
    }
   ],
   "source": [
    "len(TGC.ThoiGian) # tìm nobs"
   ]
  },
  {
   "cell_type": "code",
   "execution_count": 11,
   "id": "efaaddc3",
   "metadata": {},
   "outputs": [
    {
     "data": {
      "text/plain": [
       "(0.22798037629377677, 0.4098307481416089)"
      ]
     },
     "execution_count": 11,
     "metadata": {},
     "output_type": "execute_result"
    }
   ],
   "source": [
    "proportions_ztest(count=26,nobs=100,value=0.25,alternative='larger')"
   ]
  },
  {
   "cell_type": "markdown",
   "id": "49220217",
   "metadata": {},
   "source": [
    "#### 3. Kiểm định 2 trung bình\n",
    "##### 3.1 Hai mẫu độc lập"
   ]
  },
  {
   "cell_type": "code",
   "execution_count": 33,
   "id": "857307bc",
   "metadata": {},
   "outputs": [],
   "source": [
    "# Chi tiết các tham số\n",
    "from scipy.stats import ttest_ind\n",
    "?ttest_ind"
   ]
  },
  {
   "cell_type": "code",
   "execution_count": 27,
   "id": "81ad4aab",
   "metadata": {},
   "outputs": [
    {
     "data": {
      "text/plain": [
       "<function scipy.stats._stats_py.ttest_ind(a, b, axis=0, equal_var=True, nan_policy='propagate', permutations=None, random_state=None, alternative='two-sided', trim=0)>"
      ]
     },
     "execution_count": 27,
     "metadata": {},
     "output_type": "execute_result"
    }
   ],
   "source": [
    "ttest_ind # các tham số"
   ]
  },
  {
   "cell_type": "code",
   "execution_count": null,
   "id": "8fa5ca5e",
   "metadata": {},
   "outputs": [],
   "source": [
    "# a, b: array-like, hai mẫu\n",
    "# equal_var: True (hai tổng thể có phương sai bằng nhau)\n",
    "#            False (hai tổng thể có phương sai khác nhau)\n",
    "# nan_policy: cách xử lý dữ liệu NaN (giống trong ttest_1samp)\n",
    "# alternative: mô tả giả thuyết đối (giống trong ttest_1samp)"
   ]
  },
  {
   "cell_type": "markdown",
   "id": "59deb95f",
   "metadata": {},
   "source": [
    "Bài 23: Trong một nghiên cứu về tác dụng của Vitamin C trong điều trị bệnh\n",
    "cảm lạnh, 22 người bị cảm lạnh tình nguyện được chia làm hai nhóm: nhóm 1 gồm\n",
    "10 người được sử dụng một ngày 4 viên thuốc chứa 1 gram vitamin C. Nhóm 2 gồm\n",
    "12 người còn lại cũng dùng thuốc bề ngoài tương tự nhưng không có vitamin C và\n",
    "vô hại. Thời gian bị cảm (đơn vị: ngày) của những người này được ghi lại trong file VitaminC.xls. Tại mức ý nghĩa α = 5%, hãy xét xem việc sử dụng 4 gram vitamin C mỗi ngày có làm giảm thời gian bị cảm lạnh hay không? Giả thiết rằng hai tổng thể tuân theo phân phối chuẩn."
   ]
  },
  {
   "cell_type": "code",
   "execution_count": null,
   "id": "0ba6c982",
   "metadata": {},
   "outputs": [],
   "source": [
    "# Gọi m1, m2 lần lượt là thời gian cảm lạnh trung bình của các bệnh nhân có\n",
    "# dùng và không dùng vitamin C\n",
    "# H0: m1 - m2 = 0    H1: m1 - m2 < 0\n",
    "# p-giá trị = 0.03428 < 0.05 => Bác bỏ H0 => Ở mức ý nghĩa 5% ta kết luận uống\n",
    "# vitamin C mỗi ngày có làm giảm thời gian bị cảm lạnh"
   ]
  },
  {
   "cell_type": "code",
   "execution_count": 31,
   "id": "6ef3d248",
   "metadata": {},
   "outputs": [
    {
     "name": "stdout",
     "output_type": "stream",
     "text": [
      "    DungC  KhongC\n",
      "0     5.5     6.5\n",
      "1     6.0     6.0\n",
      "2     7.0     8.5\n",
      "3     6.0     7.0\n",
      "4     7.5     6.5\n",
      "5     6.0     8.0\n",
      "6     7.5     7.5\n",
      "7     5.5     6.5\n",
      "8     7.0     7.5\n",
      "9     6.5     6.0\n",
      "10    NaN     8.5\n",
      "11    NaN     7.0\n"
     ]
    }
   ],
   "source": [
    "vtm=pd.read_excel('VitaminC.xlsx')\n",
    "print(vtm)"
   ]
  },
  {
   "cell_type": "code",
   "execution_count": 38,
   "id": "4bdf2edf",
   "metadata": {},
   "outputs": [
    {
     "data": {
      "text/plain": [
       "Ttest_indResult(statistic=-1.9252504477681334, pvalue=0.03428345531776966)"
      ]
     },
     "execution_count": 38,
     "metadata": {},
     "output_type": "execute_result"
    }
   ],
   "source": [
    "# Có hai quan sát NaN => nan_policy = 'omit'\n",
    "# Không có giả thuyết hai tổng thể có phương sai bằng nhau => equal_var = False\n",
    "ttest_ind(vtm.DungC,vtm.KhongC,nan_policy='omit',alternative='less', \n",
    "          equal_var = False)"
   ]
  },
  {
   "cell_type": "markdown",
   "id": "04a9f133",
   "metadata": {},
   "source": [
    "Problem 24. Một kỹ sư xây dựng muốn so sánh sức chịu nén của hai loại bê tông.\n",
    "Anh ta chọn ra một mẫu gồm 10 tấm bê tông loại thứ nhất, dữ liệu về sức chịu nén (đơn vị: psi) của những tấm bê tông này như sau:\n",
    "\n",
    "3250 3268 4302 3184 3266 3297 3332 3502 3064 3116\n",
    "\n",
    "Một mẫu ngẫu nhiên khác gồm 10 tấm bê tông loại thứ hai được chọn và có sức\n",
    "chịu nén như sau\n",
    "\n",
    "3094 3106 3004 3066 2984 3124 3316 3212 3380 3018\n",
    "\n",
    "Giả sử hai tổng thể tuân theo phân phối chuẩn có phương sai bằng nhau. Hãy kiểm\n",
    "định ở mức ý nghĩa α = 5% xem khả năng chịu lực của hai loại bê tông có khác\n",
    "nhau hay không?"
   ]
  },
  {
   "cell_type": "code",
   "execution_count": null,
   "id": "c18ff1a0",
   "metadata": {},
   "outputs": [],
   "source": [
    "# Gọi m1 ,m2 lần lượt là sức chịu nén trung bình của bê tông loại 1 và loại 2\n",
    "# H0: m1 - m2 = 0     H1: m1 - m2 # 0\n",
    "# p-giá trị = 0.0722 > 0.05 => Chấp nhận H0\n",
    "# Ở mức ý nghĩa 5% ta kết luận khả năng chịu lực của hai loại bê tông như nhau."
   ]
  },
  {
   "cell_type": "code",
   "execution_count": 40,
   "id": "b1f4a7af",
   "metadata": {},
   "outputs": [
    {
     "data": {
      "text/plain": [
       "Ttest_indResult(statistic=1.9098214757174472, pvalue=0.07222420370089525)"
      ]
     },
     "execution_count": 40,
     "metadata": {},
     "output_type": "execute_result"
    }
   ],
   "source": [
    "bt1 = np.array([3250, 3268, 4302, 3184, 3266, 3297, 3332, 3502, 3064, 3116])\n",
    "bt2 = np.array([3094, 3106, 3004, 3066, 2984, 3124, 3316, 3212, 3380, 3018])\n",
    "# Có giả thuyết hai tổng thế tuân theo phân phối chuẩn => equal_var = True\n",
    "ttest_ind(bt1, bt2, equal_var = True, alternative = 'two-sided')"
   ]
  },
  {
   "cell_type": "markdown",
   "id": "bb8bbad3",
   "metadata": {},
   "source": [
    "#### 3.2 Mẫu theo cặp"
   ]
  },
  {
   "cell_type": "code",
   "execution_count": 13,
   "id": "1f346d94",
   "metadata": {},
   "outputs": [
    {
     "data": {
      "text/plain": [
       "<function scipy.stats._stats_py.ttest_rel(a, b, axis=0, nan_policy='propagate', alternative='two-sided', *, keepdims=False)>"
      ]
     },
     "execution_count": 13,
     "metadata": {},
     "output_type": "execute_result"
    }
   ],
   "source": [
    "from scipy.stats import ttest_rel\n",
    "ttest_rel  \n",
    "#các tham số như đã giới thiệu, chỉ dùng đến a, b, nan_policy, alternative"
   ]
  },
  {
   "cell_type": "markdown",
   "id": "2387c7e1",
   "metadata": {},
   "source": [
    "Problem 28. Để so sánh số hành khách đi xe bus trong giờ cao điểm buổi sáng\n",
    "và buổi chiều ở một thành phố, trong một ngày người ta chọn ngẫu nhiên 9 chiếc\n",
    "xe với lộ trình khác nhau và thu thập số liệu về số hành khách đi xe lúc 7h45’ và 16h45’ (Dữ liệu có trong file SoKhach.csv). Có sự khác biệt về số hành khách trên các chuyến xe giữa buổi sáng và chiều không? Kiểm định ở mức ý nghĩa α = 5% cho biết số hành khách đi xe tuân theo\n",
    "phân phối chuẩn."
   ]
  },
  {
   "cell_type": "code",
   "execution_count": null,
   "id": "1cea7b02",
   "metadata": {},
   "outputs": [],
   "source": [
    "# Gọi m1, m2 lần lượt là số khách trung bình trong giờ cao điểm buổi sáng và\n",
    "# buổi chiều\n",
    "# H0: m1 - m2 = 0    H1: m1 - m2 # 0\n",
    "# p-giá trị = 0.772 > 0.05 => Chấp nhận H0\n",
    "# Ở mức ý nghĩa 5% ta kết luận không có sự khác biệt về số khách buổi sáng và \n",
    "# buổi chiều"
   ]
  },
  {
   "cell_type": "code",
   "execution_count": 43,
   "id": "72834d45",
   "metadata": {},
   "outputs": [
    {
     "name": "stdout",
     "output_type": "stream",
     "text": [
      "   Sang  Chieu\n",
      "0    43     41\n",
      "1    51     49\n",
      "2    37     44\n",
      "3    24     32\n",
      "4    47     46\n",
      "5    44     42\n",
      "6    50     47\n",
      "7    55     51\n",
      "8    46     49\n"
     ]
    }
   ],
   "source": [
    "sk=pd.read_csv('SoKhach.csv')\n",
    "print(sk)"
   ]
  },
  {
   "cell_type": "code",
   "execution_count": 44,
   "id": "6994e166",
   "metadata": {},
   "outputs": [
    {
     "data": {
      "text/plain": [
       "TtestResult(statistic=-0.29981267559834457, pvalue=0.7719622494400781, df=8)"
      ]
     },
     "execution_count": 44,
     "metadata": {},
     "output_type": "execute_result"
    }
   ],
   "source": [
    "ttest_rel(sk.Sang,sk.Chieu,alternative='two-sided')"
   ]
  },
  {
   "cell_type": "markdown",
   "id": "18051736",
   "metadata": {},
   "source": [
    "#### 4. Kiểm định 2 tỷ lệ"
   ]
  },
  {
   "cell_type": "code",
   "execution_count": 48,
   "id": "261ad7e5",
   "metadata": {},
   "outputs": [
    {
     "data": {
      "text/plain": [
       "<function statsmodels.stats.proportion.proportions_ztest(count, nobs, value=None, alternative='two-sided', prop_var=False)>"
      ]
     },
     "execution_count": 48,
     "metadata": {},
     "output_type": "execute_result"
    }
   ],
   "source": [
    "from statsmodels.stats.proportion import proportions_ztest\n",
    "proportions_ztest # các tham số\n",
    "# count: array-like, chứa số quan sát thành công của 2 mẫu\n",
    "# nobs: array-like, chứa cỡ của 2 mẫu"
   ]
  },
  {
   "cell_type": "markdown",
   "id": "a8a628c1",
   "metadata": {},
   "source": [
    "Problem 31. Từ dây chuyền thứ nhất kiểm tra 110 chi tiết người ta loại đi 30 chi\n",
    "tiết, từ dây chuyền thứ hai kiểm tra 150 chi tiết người ta loại đi 40 chi tiết. Ở mức\n",
    "ý nghĩa α = 5% có thể cho rằng chất lượng sản phẩm của hai dây chuyền là như\n",
    "nhau không?"
   ]
  },
  {
   "cell_type": "code",
   "execution_count": null,
   "id": "4b88e499",
   "metadata": {},
   "outputs": [],
   "source": [
    "# Gọi p1, p2 lần lượt là tỷ lệ chi tiết bị loại của 2 dây chuyền\n",
    "# H0: p1 = p2\n",
    "# H1: p1 # p2\n",
    "# p-giá trị = 0.913 > 0.05 => Chấp nhận H0\n",
    "# Ở mức ý nghĩa 5% ta kết luận chất lượng sản phẩm của 2 dây chuyền là như nhau."
   ]
  },
  {
   "cell_type": "code",
   "execution_count": 51,
   "id": "315420a5",
   "metadata": {},
   "outputs": [
    {
     "data": {
      "text/plain": [
       "(0.10884760595201654, 0.9133233640161736)"
      ]
     },
     "execution_count": 51,
     "metadata": {},
     "output_type": "execute_result"
    }
   ],
   "source": [
    "proportions_ztest(count=[30,40],nobs=[110,150],alternative='two-sided')"
   ]
  },
  {
   "cell_type": "markdown",
   "id": "ee319c34",
   "metadata": {},
   "source": [
    "Ví dụ 2: Dùng mẫu SoLieu.csv hãy kiểm đinh giả thuyết tỷ lệ nam ở khu vực Thành phố cao hơn tỷ lệ này ở Nông thôn. Dùng mức ý nghĩa 5%."
   ]
  },
  {
   "cell_type": "code",
   "execution_count": 14,
   "id": "3a478217",
   "metadata": {},
   "outputs": [
    {
     "name": "stdout",
     "output_type": "stream",
     "text": [
      "   STT GioiTinh  Tuoi    KhuVuc  ThuNhap\n",
      "0    1      Nam    30  NongThon       30\n",
      "1    2       Nu    27  ThanhPho       40\n",
      "2    3       Nu    32   MienNui       25\n",
      "3    4      Nam    31  NongThon       35\n",
      "4    5       Nu    41    HaiDao       42\n"
     ]
    }
   ],
   "source": [
    "sl=pd.read_csv('SoLieu.csv')\n",
    "print(sl.head())"
   ]
  },
  {
   "cell_type": "code",
   "execution_count": 59,
   "id": "23741e27",
   "metadata": {},
   "outputs": [],
   "source": [
    "# Gọi p1, p2 lần lượt là tỷ lệ nam ở 2 khu vực Thành phố và Nông thôn\n",
    "# H0: p1 <= p2; H1: p1 > p2\n",
    "# p-giá trị = 0.187 > 0.05 => Chấp nhận H0\n",
    "# Ở mức ý nghĩa 5% ta kết luận tỷ lệ nam ở Thành phố \n",
    "# không cao hơn tỷ lệ này ở nông thôn."
   ]
  },
  {
   "cell_type": "code",
   "execution_count": 55,
   "id": "0a06cafb",
   "metadata": {},
   "outputs": [
    {
     "data": {
      "text/html": [
       "<div>\n",
       "<style scoped>\n",
       "    .dataframe tbody tr th:only-of-type {\n",
       "        vertical-align: middle;\n",
       "    }\n",
       "\n",
       "    .dataframe tbody tr th {\n",
       "        vertical-align: top;\n",
       "    }\n",
       "\n",
       "    .dataframe thead th {\n",
       "        text-align: right;\n",
       "    }\n",
       "</style>\n",
       "<table border=\"1\" class=\"dataframe\">\n",
       "  <thead>\n",
       "    <tr style=\"text-align: right;\">\n",
       "      <th>KhuVuc</th>\n",
       "      <th>HaiDao</th>\n",
       "      <th>MienNui</th>\n",
       "      <th>NongThon</th>\n",
       "      <th>ThanhPho</th>\n",
       "    </tr>\n",
       "    <tr>\n",
       "      <th>GioiTinh</th>\n",
       "      <th></th>\n",
       "      <th></th>\n",
       "      <th></th>\n",
       "      <th></th>\n",
       "    </tr>\n",
       "  </thead>\n",
       "  <tbody>\n",
       "    <tr>\n",
       "      <th>Nam</th>\n",
       "      <td>6</td>\n",
       "      <td>13</td>\n",
       "      <td>10</td>\n",
       "      <td>26</td>\n",
       "    </tr>\n",
       "    <tr>\n",
       "      <th>Nu</th>\n",
       "      <td>6</td>\n",
       "      <td>13</td>\n",
       "      <td>10</td>\n",
       "      <td>16</td>\n",
       "    </tr>\n",
       "  </tbody>\n",
       "</table>\n",
       "</div>"
      ],
      "text/plain": [
       "KhuVuc    HaiDao  MienNui  NongThon  ThanhPho\n",
       "GioiTinh                                     \n",
       "Nam            6       13        10        26\n",
       "Nu             6       13        10        16"
      ]
     },
     "execution_count": 55,
     "metadata": {},
     "output_type": "execute_result"
    }
   ],
   "source": [
    "pd.crosstab(sl.GioiTinh,sl.KhuVuc) # tìm được count=[26, 10]"
   ]
  },
  {
   "cell_type": "code",
   "execution_count": 57,
   "id": "8e2cfc4e",
   "metadata": {},
   "outputs": [
    {
     "data": {
      "text/plain": [
       "ThanhPho    42\n",
       "MienNui     26\n",
       "NongThon    20\n",
       "HaiDao      12\n",
       "Name: KhuVuc, dtype: int64"
      ]
     },
     "execution_count": 57,
     "metadata": {},
     "output_type": "execute_result"
    }
   ],
   "source": [
    "sl.KhuVuc.value_counts() # tìm được nobs=[42, 20]"
   ]
  },
  {
   "cell_type": "code",
   "execution_count": 58,
   "id": "f9db323a",
   "metadata": {},
   "outputs": [
    {
     "data": {
      "text/plain": [
       "(0.8880108606111126, 0.18726745465224515)"
      ]
     },
     "execution_count": 58,
     "metadata": {},
     "output_type": "execute_result"
    }
   ],
   "source": [
    "proportions_ztest(count=[26,10],nobs=[42,20],alternative='larger')"
   ]
  },
  {
   "cell_type": "code",
   "execution_count": null,
   "id": "d2c61aa7",
   "metadata": {},
   "outputs": [],
   "source": []
  },
  {
   "cell_type": "code",
   "execution_count": null,
   "id": "83d71e69",
   "metadata": {},
   "outputs": [],
   "source": []
  }
 ],
 "metadata": {
  "kernelspec": {
   "display_name": "Python 3 (ipykernel)",
   "language": "python",
   "name": "python3"
  },
  "language_info": {
   "codemirror_mode": {
    "name": "ipython",
    "version": 3
   },
   "file_extension": ".py",
   "mimetype": "text/x-python",
   "name": "python",
   "nbconvert_exporter": "python",
   "pygments_lexer": "ipython3",
   "version": "3.10.9"
  }
 },
 "nbformat": 4,
 "nbformat_minor": 5
}
